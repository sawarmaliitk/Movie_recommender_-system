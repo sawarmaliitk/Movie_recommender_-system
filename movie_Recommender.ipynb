{
 "cells": [
  {
   "cell_type": "markdown",
   "id": "61078a66",
   "metadata": {},
   "source": [
    "# Movie Recommender system"
   ]
  },
  {
   "cell_type": "markdown",
   "id": "0f8b952a",
   "metadata": {},
   "source": [
    "### implemented content-based filtering using a neural network to build a recommender system for movies."
   ]
  },
  {
   "cell_type": "markdown",
   "id": "29d32fad",
   "metadata": {},
   "source": [
    "The original dataset has roughly 9000 movies rated by 600 users with ratings on a scale of 0.5 to 5 in 0.5 step increments. The dataset has been reduced in size to focus on movies from the years since 2000 and popular genres. The reduced dataset has  𝑛𝑢=397\n",
    "  users,  𝑛𝑚=847\n",
    "  movies and 25521 ratings. For each movie, the dataset provides a movie title, release date, and one or more genres. For example \"Toy Story 3\" was released in 2010 and has several genres: \"Adventure|Animation|Children|Comedy|Fantasy\". This dataset contains little information about users other than their ratings. This dataset is used to create training vectors for the neural networks described below. "
   ]
  },
  {
   "cell_type": "code",
   "execution_count": 5,
   "id": "5df6ad81",
   "metadata": {},
   "outputs": [],
   "source": [
    "import numpy as np\n",
    "import numpy.ma as ma\n",
    "import pandas as pd\n",
    "import tensorflow as tf\n",
    "from tensorflow import keras\n",
    "from sklearn.preprocessing import StandardScaler, MinMaxScaler\n",
    "from sklearn.model_selection import train_test_split\n",
    "import tabulate\n",
    "pd.set_option(\"display.precision\", 1)"
   ]
  },
  {
   "cell_type": "code",
   "execution_count": 6,
   "id": "6f311efc",
   "metadata": {},
   "outputs": [
    {
     "data": {
      "text/html": [
       "<div>\n",
       "<style scoped>\n",
       "    .dataframe tbody tr th:only-of-type {\n",
       "        vertical-align: middle;\n",
       "    }\n",
       "\n",
       "    .dataframe tbody tr th {\n",
       "        vertical-align: top;\n",
       "    }\n",
       "\n",
       "    .dataframe thead th {\n",
       "        text-align: right;\n",
       "    }\n",
       "</style>\n",
       "<table border=\"1\" class=\"dataframe\">\n",
       "  <thead>\n",
       "    <tr style=\"text-align: right;\">\n",
       "      <th></th>\n",
       "      <th>movie id</th>\n",
       "      <th>num ratings</th>\n",
       "      <th>ave rating</th>\n",
       "      <th>title</th>\n",
       "      <th>genres</th>\n",
       "    </tr>\n",
       "  </thead>\n",
       "  <tbody>\n",
       "    <tr>\n",
       "      <th>0</th>\n",
       "      <td>4993</td>\n",
       "      <td>198</td>\n",
       "      <td>4.1</td>\n",
       "      <td>Lord of the Rings: The Fellowship of the Ring,...</td>\n",
       "      <td>Adventure|Fantasy</td>\n",
       "    </tr>\n",
       "    <tr>\n",
       "      <th>1</th>\n",
       "      <td>5952</td>\n",
       "      <td>188</td>\n",
       "      <td>4.0</td>\n",
       "      <td>Lord of the Rings: The Two Towers, The</td>\n",
       "      <td>Adventure|Fantasy</td>\n",
       "    </tr>\n",
       "    <tr>\n",
       "      <th>2</th>\n",
       "      <td>7153</td>\n",
       "      <td>185</td>\n",
       "      <td>4.1</td>\n",
       "      <td>Lord of the Rings: The Return of the King, The</td>\n",
       "      <td>Action|Adventure|Drama|Fantasy</td>\n",
       "    </tr>\n",
       "    <tr>\n",
       "      <th>3</th>\n",
       "      <td>4306</td>\n",
       "      <td>170</td>\n",
       "      <td>3.9</td>\n",
       "      <td>Shrek</td>\n",
       "      <td>Adventure|Animation|Children|Comedy|Fantasy|Ro...</td>\n",
       "    </tr>\n",
       "    <tr>\n",
       "      <th>4</th>\n",
       "      <td>58559</td>\n",
       "      <td>149</td>\n",
       "      <td>4.2</td>\n",
       "      <td>Dark Knight, The</td>\n",
       "      <td>Action|Crime|Drama</td>\n",
       "    </tr>\n",
       "    <tr>\n",
       "      <th>5</th>\n",
       "      <td>6539</td>\n",
       "      <td>149</td>\n",
       "      <td>3.8</td>\n",
       "      <td>Pirates of the Caribbean: The Curse of the Bla...</td>\n",
       "      <td>Action|Adventure|Comedy|Fantasy</td>\n",
       "    </tr>\n",
       "    <tr>\n",
       "      <th>6</th>\n",
       "      <td>79132</td>\n",
       "      <td>143</td>\n",
       "      <td>4.1</td>\n",
       "      <td>Inception</td>\n",
       "      <td>Action|Crime|Drama|Mystery|Sci-Fi|Thriller</td>\n",
       "    </tr>\n",
       "    <tr>\n",
       "      <th>7</th>\n",
       "      <td>6377</td>\n",
       "      <td>141</td>\n",
       "      <td>4.0</td>\n",
       "      <td>Finding Nemo</td>\n",
       "      <td>Adventure|Animation|Children|Comedy</td>\n",
       "    </tr>\n",
       "    <tr>\n",
       "      <th>8</th>\n",
       "      <td>4886</td>\n",
       "      <td>132</td>\n",
       "      <td>3.9</td>\n",
       "      <td>Monsters, Inc.</td>\n",
       "      <td>Adventure|Animation|Children|Comedy|Fantasy</td>\n",
       "    </tr>\n",
       "    <tr>\n",
       "      <th>9</th>\n",
       "      <td>7361</td>\n",
       "      <td>131</td>\n",
       "      <td>4.2</td>\n",
       "      <td>Eternal Sunshine of the Spotless Mind</td>\n",
       "      <td>Drama|Romance|Sci-Fi</td>\n",
       "    </tr>\n",
       "  </tbody>\n",
       "</table>\n",
       "</div>"
      ],
      "text/plain": [
       "   movie id  num ratings  ave rating  \\\n",
       "0      4993          198         4.1   \n",
       "1      5952          188         4.0   \n",
       "2      7153          185         4.1   \n",
       "3      4306          170         3.9   \n",
       "4     58559          149         4.2   \n",
       "5      6539          149         3.8   \n",
       "6     79132          143         4.1   \n",
       "7      6377          141         4.0   \n",
       "8      4886          132         3.9   \n",
       "9      7361          131         4.2   \n",
       "\n",
       "                                               title  \\\n",
       "0  Lord of the Rings: The Fellowship of the Ring,...   \n",
       "1             Lord of the Rings: The Two Towers, The   \n",
       "2     Lord of the Rings: The Return of the King, The   \n",
       "3                                              Shrek   \n",
       "4                                   Dark Knight, The   \n",
       "5  Pirates of the Caribbean: The Curse of the Bla...   \n",
       "6                                          Inception   \n",
       "7                                       Finding Nemo   \n",
       "8                                     Monsters, Inc.   \n",
       "9              Eternal Sunshine of the Spotless Mind   \n",
       "\n",
       "                                              genres  \n",
       "0                                  Adventure|Fantasy  \n",
       "1                                  Adventure|Fantasy  \n",
       "2                     Action|Adventure|Drama|Fantasy  \n",
       "3  Adventure|Animation|Children|Comedy|Fantasy|Ro...  \n",
       "4                                 Action|Crime|Drama  \n",
       "5                    Action|Adventure|Comedy|Fantasy  \n",
       "6         Action|Crime|Drama|Mystery|Sci-Fi|Thriller  \n",
       "7                Adventure|Animation|Children|Comedy  \n",
       "8        Adventure|Animation|Children|Comedy|Fantasy  \n",
       "9                               Drama|Romance|Sci-Fi  "
      ]
     },
     "execution_count": 6,
     "metadata": {},
     "output_type": "execute_result"
    }
   ],
   "source": [
    "top10_df = pd.read_csv(\"./data/content_top10_df.csv\")\n",
    "bygenre_df = pd.read_csv(\"./data/content_bygenre_df.csv\")\n",
    "top10_df"
   ]
  },
  {
   "cell_type": "code",
   "execution_count": 7,
   "id": "53cb5190",
   "metadata": {},
   "outputs": [
    {
     "data": {
      "text/html": [
       "<div>\n",
       "<style scoped>\n",
       "    .dataframe tbody tr th:only-of-type {\n",
       "        vertical-align: middle;\n",
       "    }\n",
       "\n",
       "    .dataframe tbody tr th {\n",
       "        vertical-align: top;\n",
       "    }\n",
       "\n",
       "    .dataframe thead th {\n",
       "        text-align: right;\n",
       "    }\n",
       "</style>\n",
       "<table border=\"1\" class=\"dataframe\">\n",
       "  <thead>\n",
       "    <tr style=\"text-align: right;\">\n",
       "      <th></th>\n",
       "      <th>movie id</th>\n",
       "      <th>num ratings</th>\n",
       "      <th>ave rating</th>\n",
       "      <th>title</th>\n",
       "      <th>genres</th>\n",
       "    </tr>\n",
       "  </thead>\n",
       "  <tbody>\n",
       "    <tr>\n",
       "      <th>0</th>\n",
       "      <td>4993</td>\n",
       "      <td>198</td>\n",
       "      <td>4.1</td>\n",
       "      <td>Lord of the Rings: The Fellowship of the Ring,...</td>\n",
       "      <td>Adventure|Fantasy</td>\n",
       "    </tr>\n",
       "    <tr>\n",
       "      <th>1</th>\n",
       "      <td>5952</td>\n",
       "      <td>188</td>\n",
       "      <td>4.0</td>\n",
       "      <td>Lord of the Rings: The Two Towers, The</td>\n",
       "      <td>Adventure|Fantasy</td>\n",
       "    </tr>\n",
       "    <tr>\n",
       "      <th>2</th>\n",
       "      <td>7153</td>\n",
       "      <td>185</td>\n",
       "      <td>4.1</td>\n",
       "      <td>Lord of the Rings: The Return of the King, The</td>\n",
       "      <td>Action|Adventure|Drama|Fantasy</td>\n",
       "    </tr>\n",
       "    <tr>\n",
       "      <th>3</th>\n",
       "      <td>4306</td>\n",
       "      <td>170</td>\n",
       "      <td>3.9</td>\n",
       "      <td>Shrek</td>\n",
       "      <td>Adventure|Animation|Children|Comedy|Fantasy|Ro...</td>\n",
       "    </tr>\n",
       "    <tr>\n",
       "      <th>4</th>\n",
       "      <td>58559</td>\n",
       "      <td>149</td>\n",
       "      <td>4.2</td>\n",
       "      <td>Dark Knight, The</td>\n",
       "      <td>Action|Crime|Drama</td>\n",
       "    </tr>\n",
       "    <tr>\n",
       "      <th>5</th>\n",
       "      <td>6539</td>\n",
       "      <td>149</td>\n",
       "      <td>3.8</td>\n",
       "      <td>Pirates of the Caribbean: The Curse of the Bla...</td>\n",
       "      <td>Action|Adventure|Comedy|Fantasy</td>\n",
       "    </tr>\n",
       "    <tr>\n",
       "      <th>6</th>\n",
       "      <td>79132</td>\n",
       "      <td>143</td>\n",
       "      <td>4.1</td>\n",
       "      <td>Inception</td>\n",
       "      <td>Action|Crime|Drama|Mystery|Sci-Fi|Thriller</td>\n",
       "    </tr>\n",
       "    <tr>\n",
       "      <th>7</th>\n",
       "      <td>6377</td>\n",
       "      <td>141</td>\n",
       "      <td>4.0</td>\n",
       "      <td>Finding Nemo</td>\n",
       "      <td>Adventure|Animation|Children|Comedy</td>\n",
       "    </tr>\n",
       "    <tr>\n",
       "      <th>8</th>\n",
       "      <td>4886</td>\n",
       "      <td>132</td>\n",
       "      <td>3.9</td>\n",
       "      <td>Monsters, Inc.</td>\n",
       "      <td>Adventure|Animation|Children|Comedy|Fantasy</td>\n",
       "    </tr>\n",
       "    <tr>\n",
       "      <th>9</th>\n",
       "      <td>7361</td>\n",
       "      <td>131</td>\n",
       "      <td>4.2</td>\n",
       "      <td>Eternal Sunshine of the Spotless Mind</td>\n",
       "      <td>Drama|Romance|Sci-Fi</td>\n",
       "    </tr>\n",
       "  </tbody>\n",
       "</table>\n",
       "</div>"
      ],
      "text/plain": [
       "   movie id  num ratings  ave rating  \\\n",
       "0      4993          198         4.1   \n",
       "1      5952          188         4.0   \n",
       "2      7153          185         4.1   \n",
       "3      4306          170         3.9   \n",
       "4     58559          149         4.2   \n",
       "5      6539          149         3.8   \n",
       "6     79132          143         4.1   \n",
       "7      6377          141         4.0   \n",
       "8      4886          132         3.9   \n",
       "9      7361          131         4.2   \n",
       "\n",
       "                                               title  \\\n",
       "0  Lord of the Rings: The Fellowship of the Ring,...   \n",
       "1             Lord of the Rings: The Two Towers, The   \n",
       "2     Lord of the Rings: The Return of the King, The   \n",
       "3                                              Shrek   \n",
       "4                                   Dark Knight, The   \n",
       "5  Pirates of the Caribbean: The Curse of the Bla...   \n",
       "6                                          Inception   \n",
       "7                                       Finding Nemo   \n",
       "8                                     Monsters, Inc.   \n",
       "9              Eternal Sunshine of the Spotless Mind   \n",
       "\n",
       "                                              genres  \n",
       "0                                  Adventure|Fantasy  \n",
       "1                                  Adventure|Fantasy  \n",
       "2                     Action|Adventure|Drama|Fantasy  \n",
       "3  Adventure|Animation|Children|Comedy|Fantasy|Ro...  \n",
       "4                                 Action|Crime|Drama  \n",
       "5                    Action|Adventure|Comedy|Fantasy  \n",
       "6         Action|Crime|Drama|Mystery|Sci-Fi|Thriller  \n",
       "7                Adventure|Animation|Children|Comedy  \n",
       "8        Adventure|Animation|Children|Comedy|Fantasy  \n",
       "9                               Drama|Romance|Sci-Fi  "
      ]
     },
     "execution_count": 7,
     "metadata": {},
     "output_type": "execute_result"
    }
   ],
   "source": [
    "top10_df"
   ]
  },
  {
   "cell_type": "code",
   "execution_count": 8,
   "id": "78b08093",
   "metadata": {},
   "outputs": [],
   "source": [
    "from collections import defaultdict\n",
    "import csv\n",
    "import numpy as np\n",
    "from numpy import genfromtxt\n",
    "import tabulate"
   ]
  },
  {
   "cell_type": "code",
   "execution_count": 24,
   "id": "e6acf3aa",
   "metadata": {},
   "outputs": [],
   "source": [
    "import pickle"
   ]
  },
  {
   "cell_type": "code",
   "execution_count": 25,
   "id": "18480cb4",
   "metadata": {},
   "outputs": [],
   "source": [
    "def load_data():\n",
    "    ''' called to load preprepared data for the lab '''\n",
    "    item_train = genfromtxt('./data/content_item_train.csv', delimiter=',')\n",
    "    user_train = genfromtxt('./data/content_user_train.csv', delimiter=',')\n",
    "    y_train    = genfromtxt('./data/content_y_train.csv', delimiter=',')\n",
    "    with open('./data/content_item_train_header.txt', newline='') as f:    #csv reader handles quoted strings better\n",
    "        item_features = list(csv.reader(f))[0]\n",
    "    with open('./data/content_user_train_header.txt', newline='') as f:\n",
    "        user_features = list(csv.reader(f))[0]\n",
    "    item_vecs = genfromtxt('./data/content_item_vecs.csv', delimiter=',')\n",
    "\n",
    "    movie_dict = defaultdict(dict)\n",
    "    count = 0\n",
    "#    with open('./data/movies.csv', newline='') as csvfile:\n",
    "    with open('./data/content_movie_list.csv', newline='') as csvfile:\n",
    "        reader = csv.reader(csvfile, delimiter=',', quotechar='\"')\n",
    "        for line in reader:\n",
    "            if count == 0:\n",
    "                count += 1  #skip header\n",
    "                #print(line) print\n",
    "            else:\n",
    "                count += 1\n",
    "                movie_id = int(line[0])\n",
    "                movie_dict[movie_id][\"title\"] = line[1]\n",
    "                movie_dict[movie_id][\"genres\"] = line[2]\n",
    "\n",
    "    with open('./data/content_user_to_genre.pickle', 'rb') as f:\n",
    "        user_to_genre = pickle.load(f)\n",
    "\n",
    "    return(item_train, user_train, y_train, item_features, user_features, item_vecs, movie_dict, user_to_genre)"
   ]
  },
  {
   "cell_type": "code",
   "execution_count": 11,
   "id": "791d9de2",
   "metadata": {},
   "outputs": [],
   "source": [
    "def pprint_train(x_train, features, vs, u_s, maxcount=5, user=True):\n",
    "    \"\"\" Prints user_train or item_train nicely \"\"\"\n",
    "    if user:\n",
    "        flist = [\".0f\", \".0f\", \".1f\",\n",
    "                 \".1f\", \".1f\", \".1f\", \".1f\", \".1f\", \".1f\", \".1f\", \".1f\", \".1f\", \".1f\", \".1f\", \".1f\", \".1f\", \".1f\"]\n",
    "    else:\n",
    "        flist = [\".0f\", \".0f\", \".1f\", \n",
    "                 \".0f\", \".0f\", \".0f\", \".0f\", \".0f\", \".0f\", \".0f\", \".0f\", \".0f\", \".0f\", \".0f\", \".0f\", \".0f\", \".0f\"]\n",
    "\n",
    "    head = features[:vs]\n",
    "    if vs < u_s: print(\"error, vector start {vs} should be greater then user start {u_s}\")\n",
    "    for i in range(u_s):\n",
    "        head[i] = \"[\" + head[i] + \"]\"\n",
    "    genres = features[vs:]\n",
    "    hdr = head + genres\n",
    "    disp = [split_str(hdr, 5)]\n",
    "    count = 0\n",
    "    for i in range(0, x_train.shape[0]):\n",
    "        if count == maxcount: break\n",
    "        count += 1\n",
    "        disp.append([x_train[i, 0].astype(int),\n",
    "                     x_train[i, 1].astype(int),\n",
    "                     x_train[i, 2].astype(float),\n",
    "                     *x_train[i, 3:].astype(float)\n",
    "                    ])\n",
    "    table = tabulate.tabulate(disp, tablefmt='html', headers=\"firstrow\", floatfmt=flist, numalign='center')\n",
    "    return table"
   ]
  },
  {
   "cell_type": "code",
   "execution_count": 12,
   "id": "4ec6d7a1",
   "metadata": {},
   "outputs": [],
   "source": [
    "def split_str(ifeatures, smax):\n",
    "    ''' split the feature name strings to tables fit '''\n",
    "    ofeatures = []\n",
    "    for s in ifeatures:\n",
    "        if not ' ' in s:  # skip string that already have a space\n",
    "            if len(s) > smax:\n",
    "                mid = int(len(s)/2)\n",
    "                s = s[:mid] + \" \" + s[mid:]\n",
    "        ofeatures.append(s)\n",
    "    return ofeatures\n",
    "    \n",
    "\n",
    "def print_pred_movies(y_p, item, movie_dict, maxcount=10):\n",
    "    \"\"\" print results of prediction of a new user. inputs are expected to be in\n",
    "        sorted order, unscaled. \"\"\"\n",
    "    count = 0\n",
    "    disp = [[\"y_p\", \"movie id\", \"rating ave\", \"title\", \"genres\"]]\n",
    "\n",
    "    for i in range(0, y_p.shape[0]):\n",
    "        if count == maxcount:\n",
    "            break\n",
    "        count += 1\n",
    "        movie_id = item[i, 0].astype(int)\n",
    "        disp.append([np.around(y_p[i, 0], 1), item[i, 0].astype(int), np.around(item[i, 2].astype(float), 1),\n",
    "                     movie_dict[movie_id]['title'], movie_dict[movie_id]['genres']])\n",
    "\n",
    "    table = tabulate.tabulate(disp, tablefmt='html', headers=\"firstrow\")\n",
    "    return table"
   ]
  },
  {
   "cell_type": "code",
   "execution_count": 13,
   "id": "75ee5483",
   "metadata": {},
   "outputs": [],
   "source": [
    "\n",
    "def gen_user_vecs(user_vec, num_items):\n",
    "    \"\"\" given a user vector return:\n",
    "        user predict maxtrix to match the size of item_vecs \"\"\"\n",
    "    user_vecs = np.tile(user_vec, (num_items, 1))\n",
    "    return user_vecs\n",
    "\n",
    "# predict on  everything, filter on print/use\n",
    "def predict_uservec(user_vecs, item_vecs, model, u_s, i_s, scaler):\n",
    "    \"\"\" given a scaled user vector, does the prediction on all movies in scaled print_item_vecs returns\n",
    "        an array predictions sorted by predicted rating,\n",
    "        arrays of user and item, sorted by predicted rating sorting index\n",
    "    \"\"\"\n",
    "    y_p = model.predict([user_vecs[:, u_s:], item_vecs[:, i_s:]])\n",
    "    y_pu = scaler.inverse_transform(y_p)\n",
    "\n",
    "    if np.any(y_pu < 0):\n",
    "        print(\"Error, expected all positive predictions\")\n",
    "    sorted_index = np.argsort(-y_pu, axis=0).reshape(-1).tolist()  #negate to get largest rating first\n",
    "    sorted_ypu   = y_pu[sorted_index]\n",
    "    sorted_items = item_vecs[sorted_index]\n",
    "    sorted_user  = user_vecs[sorted_index]\n",
    "    return(sorted_index, sorted_ypu, sorted_items, sorted_user)\n",
    "                \n",
    "def get_user_vecs(user_id, user_train, item_vecs, user_to_genre):\n",
    "    \"\"\" given a user_id, return:\n",
    "        user train/predict matrix to match the size of item_vecs\n",
    "        y vector with ratings for all rated movies and 0 for others of size item_vecs \"\"\"\n",
    "\n",
    "    if not user_id in user_to_genre:\n",
    "        print(\"error: unknown user id\")\n",
    "        return None\n",
    "    else:\n",
    "        user_vec_found = False\n",
    "        for i in range(len(user_train)):\n",
    "            if user_train[i, 0] == user_id:\n",
    "                user_vec = user_train[i]\n",
    "                user_vec_found = True\n",
    "                break\n",
    "        if not user_vec_found:\n",
    "            print(\"error in get_user_vecs, did not find uid in user_train\")\n",
    "        num_items = len(item_vecs)\n",
    "        user_vecs = np.tile(user_vec, (num_items, 1))\n",
    "\n",
    "        y = np.zeros(num_items)\n",
    "        for i in range(num_items):  # walk through movies in item_vecs and get the movies, see if user has rated them\n",
    "            movie_id = item_vecs[i, 0]\n",
    "            if movie_id in user_to_genre[user_id]['movies']:\n",
    "                rating = user_to_genre[user_id]['movies'][movie_id]\n",
    "            else:\n",
    "                rating = 0\n",
    "            y[i] = rating\n",
    "    return(user_vecs, y)\n",
    "\n",
    "def get_item_genres(item_gvec, genre_features):\n",
    "    ''' takes in the item's genre vector and list of genre names\n",
    "    returns the feature names where gvec was 1 '''\n",
    "    offsets = np.nonzero(item_gvec)[0]\n",
    "    genres = [genre_features[i] for i in offsets]\n",
    "    return genres\n"
   ]
  },
  {
   "cell_type": "code",
   "execution_count": 40,
   "id": "3550b8d3",
   "metadata": {},
   "outputs": [],
   "source": [
    "def print_existing_user(y_p, y, user, items, ivs, uvs, movie_dict, maxcount=10):\n",
    "    \"\"\" print results of prediction for a user who was in the database.\n",
    "        Inputs are expected to be in sorted order, unscaled.\n",
    "    \"\"\"\n",
    "    count = 0\n",
    "    disp = [[\"y_p\", \"y\", \"user\", \"user genre ave\", \"movie rating ave\", \"movie id\", \"title\", \"genres\"]]\n",
    "    count = 0\n",
    "    for i in range(0, y.shape[0]):\n",
    "        if y[i, 0] != 0:  # zero means not rated\n",
    "            if count == maxcount:\n",
    "                break\n",
    "            count += 1\n",
    "            movie_id = items[i, 0].astype(int)\n",
    "\n",
    "            offsets = np.nonzero(items[i, ivs:] == 1)[0]\n",
    "            genre_ratings = user[i, uvs + offsets]\n",
    "            disp.append([y_p[i, 0], y[i, 0],\n",
    "                         user[i, 0].astype(int),      # userid\n",
    "                         np.array2string(genre_ratings, \n",
    "                                         formatter={'float_kind':lambda x: \"%.1f\" % x},\n",
    "                                         separator=',', suppress_small=True),\n",
    "                         items[i, 2].astype(float),    # movie average rating\n",
    "                         movie_id,\n",
    "                         movie_dict[movie_id]['title'],\n",
    "                         movie_dict[movie_id]['genres']])\n",
    "\n",
    "    table = tabulate.tabulate(disp, tablefmt='html', headers=\"firstrow\", floatfmt=[\".1f\", \".1f\", \".0f\", \".2f\", \".1f\"])\n",
    "    return table"
   ]
  },
  {
   "cell_type": "markdown",
   "id": "fad4ce42",
   "metadata": {},
   "source": [
    "## Training Data"
   ]
  },
  {
   "cell_type": "code",
   "execution_count": 26,
   "id": "3359e0f1",
   "metadata": {},
   "outputs": [
    {
     "name": "stdout",
     "output_type": "stream",
     "text": [
      "Number of training vectors: 50884\n"
     ]
    }
   ],
   "source": [
    "# Load Data, set configuration variables\n",
    "item_train, user_train, y_train, item_features, user_features, item_vecs, movie_dict, user_to_genre = load_data()\n",
    "\n",
    "num_user_features = user_train.shape[1] - 3  # remove userid, rating count and ave rating during training\n",
    "num_item_features = item_train.shape[1] - 1  # remove movie id at train time\n",
    "uvs = 3  # user genre vector start\n",
    "ivs = 3  # item genre vector start\n",
    "u_s = 3  # start of columns to use in training, user\n",
    "i_s = 1  # start of columns to use in training, items\n",
    "print(f\"Number of training vectors: {len(item_train)}\")"
   ]
  },
  {
   "cell_type": "code",
   "execution_count": 27,
   "id": "6143fc65",
   "metadata": {},
   "outputs": [
    {
     "data": {
      "text/html": [
       "<table>\n",
       "<thead>\n",
       "<tr><th style=\"text-align: center;\"> [user id] </th><th style=\"text-align: center;\"> [rating count] </th><th style=\"text-align: center;\"> [rating ave] </th><th style=\"text-align: center;\"> Act ion </th><th style=\"text-align: center;\"> Adve nture </th><th style=\"text-align: center;\"> Anim ation </th><th style=\"text-align: center;\"> Chil dren </th><th style=\"text-align: center;\"> Com edy </th><th style=\"text-align: center;\"> Crime </th><th style=\"text-align: center;\"> Docum entary </th><th style=\"text-align: center;\"> Drama </th><th style=\"text-align: center;\"> Fan tasy </th><th style=\"text-align: center;\"> Hor ror </th><th style=\"text-align: center;\"> Mys tery </th><th style=\"text-align: center;\"> Rom ance </th><th style=\"text-align: center;\"> Sci -Fi </th><th style=\"text-align: center;\"> Thri ller </th></tr>\n",
       "</thead>\n",
       "<tbody>\n",
       "<tr><td style=\"text-align: center;\">     2     </td><td style=\"text-align: center;\">       22       </td><td style=\"text-align: center;\">     4.0      </td><td style=\"text-align: center;\">   4.0   </td><td style=\"text-align: center;\">    4.2     </td><td style=\"text-align: center;\">    0.0     </td><td style=\"text-align: center;\">    0.0    </td><td style=\"text-align: center;\">   4.0   </td><td style=\"text-align: center;\">  4.1  </td><td style=\"text-align: center;\">     4.0      </td><td style=\"text-align: center;\">  4.0  </td><td style=\"text-align: center;\">   0.0    </td><td style=\"text-align: center;\">   3.0   </td><td style=\"text-align: center;\">   4.0    </td><td style=\"text-align: center;\">   0.0    </td><td style=\"text-align: center;\">   3.9   </td><td style=\"text-align: center;\">    3.9    </td></tr>\n",
       "<tr><td style=\"text-align: center;\">     2     </td><td style=\"text-align: center;\">       22       </td><td style=\"text-align: center;\">     4.0      </td><td style=\"text-align: center;\">   4.0   </td><td style=\"text-align: center;\">    4.2     </td><td style=\"text-align: center;\">    0.0     </td><td style=\"text-align: center;\">    0.0    </td><td style=\"text-align: center;\">   4.0   </td><td style=\"text-align: center;\">  4.1  </td><td style=\"text-align: center;\">     4.0      </td><td style=\"text-align: center;\">  4.0  </td><td style=\"text-align: center;\">   0.0    </td><td style=\"text-align: center;\">   3.0   </td><td style=\"text-align: center;\">   4.0    </td><td style=\"text-align: center;\">   0.0    </td><td style=\"text-align: center;\">   3.9   </td><td style=\"text-align: center;\">    3.9    </td></tr>\n",
       "<tr><td style=\"text-align: center;\">     2     </td><td style=\"text-align: center;\">       22       </td><td style=\"text-align: center;\">     4.0      </td><td style=\"text-align: center;\">   4.0   </td><td style=\"text-align: center;\">    4.2     </td><td style=\"text-align: center;\">    0.0     </td><td style=\"text-align: center;\">    0.0    </td><td style=\"text-align: center;\">   4.0   </td><td style=\"text-align: center;\">  4.1  </td><td style=\"text-align: center;\">     4.0      </td><td style=\"text-align: center;\">  4.0  </td><td style=\"text-align: center;\">   0.0    </td><td style=\"text-align: center;\">   3.0   </td><td style=\"text-align: center;\">   4.0    </td><td style=\"text-align: center;\">   0.0    </td><td style=\"text-align: center;\">   3.9   </td><td style=\"text-align: center;\">    3.9    </td></tr>\n",
       "<tr><td style=\"text-align: center;\">     2     </td><td style=\"text-align: center;\">       22       </td><td style=\"text-align: center;\">     4.0      </td><td style=\"text-align: center;\">   4.0   </td><td style=\"text-align: center;\">    4.2     </td><td style=\"text-align: center;\">    0.0     </td><td style=\"text-align: center;\">    0.0    </td><td style=\"text-align: center;\">   4.0   </td><td style=\"text-align: center;\">  4.1  </td><td style=\"text-align: center;\">     4.0      </td><td style=\"text-align: center;\">  4.0  </td><td style=\"text-align: center;\">   0.0    </td><td style=\"text-align: center;\">   3.0   </td><td style=\"text-align: center;\">   4.0    </td><td style=\"text-align: center;\">   0.0    </td><td style=\"text-align: center;\">   3.9   </td><td style=\"text-align: center;\">    3.9    </td></tr>\n",
       "<tr><td style=\"text-align: center;\">     2     </td><td style=\"text-align: center;\">       22       </td><td style=\"text-align: center;\">     4.0      </td><td style=\"text-align: center;\">   4.0   </td><td style=\"text-align: center;\">    4.2     </td><td style=\"text-align: center;\">    0.0     </td><td style=\"text-align: center;\">    0.0    </td><td style=\"text-align: center;\">   4.0   </td><td style=\"text-align: center;\">  4.1  </td><td style=\"text-align: center;\">     4.0      </td><td style=\"text-align: center;\">  4.0  </td><td style=\"text-align: center;\">   0.0    </td><td style=\"text-align: center;\">   3.0   </td><td style=\"text-align: center;\">   4.0    </td><td style=\"text-align: center;\">   0.0    </td><td style=\"text-align: center;\">   3.9   </td><td style=\"text-align: center;\">    3.9    </td></tr>\n",
       "</tbody>\n",
       "</table>"
      ],
      "text/plain": [
       "'<table>\\n<thead>\\n<tr><th style=\"text-align: center;\"> [user id] </th><th style=\"text-align: center;\"> [rating count] </th><th style=\"text-align: center;\"> [rating ave] </th><th style=\"text-align: center;\"> Act ion </th><th style=\"text-align: center;\"> Adve nture </th><th style=\"text-align: center;\"> Anim ation </th><th style=\"text-align: center;\"> Chil dren </th><th style=\"text-align: center;\"> Com edy </th><th style=\"text-align: center;\"> Crime </th><th style=\"text-align: center;\"> Docum entary </th><th style=\"text-align: center;\"> Drama </th><th style=\"text-align: center;\"> Fan tasy </th><th style=\"text-align: center;\"> Hor ror </th><th style=\"text-align: center;\"> Mys tery </th><th style=\"text-align: center;\"> Rom ance </th><th style=\"text-align: center;\"> Sci -Fi </th><th style=\"text-align: center;\"> Thri ller </th></tr>\\n</thead>\\n<tbody>\\n<tr><td style=\"text-align: center;\">     2     </td><td style=\"text-align: center;\">       22       </td><td style=\"text-align: center;\">     4.0      </td><td style=\"text-align: center;\">   4.0   </td><td style=\"text-align: center;\">    4.2     </td><td style=\"text-align: center;\">    0.0     </td><td style=\"text-align: center;\">    0.0    </td><td style=\"text-align: center;\">   4.0   </td><td style=\"text-align: center;\">  4.1  </td><td style=\"text-align: center;\">     4.0      </td><td style=\"text-align: center;\">  4.0  </td><td style=\"text-align: center;\">   0.0    </td><td style=\"text-align: center;\">   3.0   </td><td style=\"text-align: center;\">   4.0    </td><td style=\"text-align: center;\">   0.0    </td><td style=\"text-align: center;\">   3.9   </td><td style=\"text-align: center;\">    3.9    </td></tr>\\n<tr><td style=\"text-align: center;\">     2     </td><td style=\"text-align: center;\">       22       </td><td style=\"text-align: center;\">     4.0      </td><td style=\"text-align: center;\">   4.0   </td><td style=\"text-align: center;\">    4.2     </td><td style=\"text-align: center;\">    0.0     </td><td style=\"text-align: center;\">    0.0    </td><td style=\"text-align: center;\">   4.0   </td><td style=\"text-align: center;\">  4.1  </td><td style=\"text-align: center;\">     4.0      </td><td style=\"text-align: center;\">  4.0  </td><td style=\"text-align: center;\">   0.0    </td><td style=\"text-align: center;\">   3.0   </td><td style=\"text-align: center;\">   4.0    </td><td style=\"text-align: center;\">   0.0    </td><td style=\"text-align: center;\">   3.9   </td><td style=\"text-align: center;\">    3.9    </td></tr>\\n<tr><td style=\"text-align: center;\">     2     </td><td style=\"text-align: center;\">       22       </td><td style=\"text-align: center;\">     4.0      </td><td style=\"text-align: center;\">   4.0   </td><td style=\"text-align: center;\">    4.2     </td><td style=\"text-align: center;\">    0.0     </td><td style=\"text-align: center;\">    0.0    </td><td style=\"text-align: center;\">   4.0   </td><td style=\"text-align: center;\">  4.1  </td><td style=\"text-align: center;\">     4.0      </td><td style=\"text-align: center;\">  4.0  </td><td style=\"text-align: center;\">   0.0    </td><td style=\"text-align: center;\">   3.0   </td><td style=\"text-align: center;\">   4.0    </td><td style=\"text-align: center;\">   0.0    </td><td style=\"text-align: center;\">   3.9   </td><td style=\"text-align: center;\">    3.9    </td></tr>\\n<tr><td style=\"text-align: center;\">     2     </td><td style=\"text-align: center;\">       22       </td><td style=\"text-align: center;\">     4.0      </td><td style=\"text-align: center;\">   4.0   </td><td style=\"text-align: center;\">    4.2     </td><td style=\"text-align: center;\">    0.0     </td><td style=\"text-align: center;\">    0.0    </td><td style=\"text-align: center;\">   4.0   </td><td style=\"text-align: center;\">  4.1  </td><td style=\"text-align: center;\">     4.0      </td><td style=\"text-align: center;\">  4.0  </td><td style=\"text-align: center;\">   0.0    </td><td style=\"text-align: center;\">   3.0   </td><td style=\"text-align: center;\">   4.0    </td><td style=\"text-align: center;\">   0.0    </td><td style=\"text-align: center;\">   3.9   </td><td style=\"text-align: center;\">    3.9    </td></tr>\\n<tr><td style=\"text-align: center;\">     2     </td><td style=\"text-align: center;\">       22       </td><td style=\"text-align: center;\">     4.0      </td><td style=\"text-align: center;\">   4.0   </td><td style=\"text-align: center;\">    4.2     </td><td style=\"text-align: center;\">    0.0     </td><td style=\"text-align: center;\">    0.0    </td><td style=\"text-align: center;\">   4.0   </td><td style=\"text-align: center;\">  4.1  </td><td style=\"text-align: center;\">     4.0      </td><td style=\"text-align: center;\">  4.0  </td><td style=\"text-align: center;\">   0.0    </td><td style=\"text-align: center;\">   3.0   </td><td style=\"text-align: center;\">   4.0    </td><td style=\"text-align: center;\">   0.0    </td><td style=\"text-align: center;\">   3.9   </td><td style=\"text-align: center;\">    3.9    </td></tr>\\n</tbody>\\n</table>'"
      ]
     },
     "execution_count": 27,
     "metadata": {},
     "output_type": "execute_result"
    }
   ],
   "source": [
    "pprint_train(user_train, user_features, uvs,  u_s, maxcount=5)"
   ]
  },
  {
   "cell_type": "code",
   "execution_count": 28,
   "id": "1df32e64",
   "metadata": {},
   "outputs": [
    {
     "data": {
      "text/html": [
       "<table>\n",
       "<thead>\n",
       "<tr><th style=\"text-align: center;\"> [movie id] </th><th style=\"text-align: center;\"> year </th><th style=\"text-align: center;\"> ave rating </th><th style=\"text-align: center;\"> Act ion </th><th style=\"text-align: center;\"> Adve nture </th><th style=\"text-align: center;\"> Anim ation </th><th style=\"text-align: center;\"> Chil dren </th><th style=\"text-align: center;\"> Com edy </th><th style=\"text-align: center;\"> Crime </th><th style=\"text-align: center;\"> Docum entary </th><th style=\"text-align: center;\"> Drama </th><th style=\"text-align: center;\"> Fan tasy </th><th style=\"text-align: center;\"> Hor ror </th><th style=\"text-align: center;\"> Mys tery </th><th style=\"text-align: center;\"> Rom ance </th><th style=\"text-align: center;\"> Sci -Fi </th><th style=\"text-align: center;\"> Thri ller </th></tr>\n",
       "</thead>\n",
       "<tbody>\n",
       "<tr><td style=\"text-align: center;\">    6874    </td><td style=\"text-align: center;\"> 2003 </td><td style=\"text-align: center;\">    4.0     </td><td style=\"text-align: center;\">    1    </td><td style=\"text-align: center;\">     0      </td><td style=\"text-align: center;\">     0      </td><td style=\"text-align: center;\">     0     </td><td style=\"text-align: center;\">    0    </td><td style=\"text-align: center;\">   1   </td><td style=\"text-align: center;\">      0       </td><td style=\"text-align: center;\">   0   </td><td style=\"text-align: center;\">    0     </td><td style=\"text-align: center;\">    0    </td><td style=\"text-align: center;\">    0     </td><td style=\"text-align: center;\">    0     </td><td style=\"text-align: center;\">    0    </td><td style=\"text-align: center;\">     1     </td></tr>\n",
       "<tr><td style=\"text-align: center;\">    8798    </td><td style=\"text-align: center;\"> 2004 </td><td style=\"text-align: center;\">    3.8     </td><td style=\"text-align: center;\">    1    </td><td style=\"text-align: center;\">     0      </td><td style=\"text-align: center;\">     0      </td><td style=\"text-align: center;\">     0     </td><td style=\"text-align: center;\">    0    </td><td style=\"text-align: center;\">   1   </td><td style=\"text-align: center;\">      0       </td><td style=\"text-align: center;\">   1   </td><td style=\"text-align: center;\">    0     </td><td style=\"text-align: center;\">    0    </td><td style=\"text-align: center;\">    0     </td><td style=\"text-align: center;\">    0     </td><td style=\"text-align: center;\">    0    </td><td style=\"text-align: center;\">     1     </td></tr>\n",
       "<tr><td style=\"text-align: center;\">   46970    </td><td style=\"text-align: center;\"> 2006 </td><td style=\"text-align: center;\">    3.2     </td><td style=\"text-align: center;\">    1    </td><td style=\"text-align: center;\">     0      </td><td style=\"text-align: center;\">     0      </td><td style=\"text-align: center;\">     0     </td><td style=\"text-align: center;\">    1    </td><td style=\"text-align: center;\">   0   </td><td style=\"text-align: center;\">      0       </td><td style=\"text-align: center;\">   0   </td><td style=\"text-align: center;\">    0     </td><td style=\"text-align: center;\">    0    </td><td style=\"text-align: center;\">    0     </td><td style=\"text-align: center;\">    0     </td><td style=\"text-align: center;\">    0    </td><td style=\"text-align: center;\">     0     </td></tr>\n",
       "<tr><td style=\"text-align: center;\">   48516    </td><td style=\"text-align: center;\"> 2006 </td><td style=\"text-align: center;\">    4.3     </td><td style=\"text-align: center;\">    0    </td><td style=\"text-align: center;\">     0      </td><td style=\"text-align: center;\">     0      </td><td style=\"text-align: center;\">     0     </td><td style=\"text-align: center;\">    0    </td><td style=\"text-align: center;\">   1   </td><td style=\"text-align: center;\">      0       </td><td style=\"text-align: center;\">   1   </td><td style=\"text-align: center;\">    0     </td><td style=\"text-align: center;\">    0    </td><td style=\"text-align: center;\">    0     </td><td style=\"text-align: center;\">    0     </td><td style=\"text-align: center;\">    0    </td><td style=\"text-align: center;\">     1     </td></tr>\n",
       "<tr><td style=\"text-align: center;\">   58559    </td><td style=\"text-align: center;\"> 2008 </td><td style=\"text-align: center;\">    4.2     </td><td style=\"text-align: center;\">    1    </td><td style=\"text-align: center;\">     0      </td><td style=\"text-align: center;\">     0      </td><td style=\"text-align: center;\">     0     </td><td style=\"text-align: center;\">    0    </td><td style=\"text-align: center;\">   1   </td><td style=\"text-align: center;\">      0       </td><td style=\"text-align: center;\">   1   </td><td style=\"text-align: center;\">    0     </td><td style=\"text-align: center;\">    0    </td><td style=\"text-align: center;\">    0     </td><td style=\"text-align: center;\">    0     </td><td style=\"text-align: center;\">    0    </td><td style=\"text-align: center;\">     0     </td></tr>\n",
       "</tbody>\n",
       "</table>"
      ],
      "text/plain": [
       "'<table>\\n<thead>\\n<tr><th style=\"text-align: center;\"> [movie id] </th><th style=\"text-align: center;\"> year </th><th style=\"text-align: center;\"> ave rating </th><th style=\"text-align: center;\"> Act ion </th><th style=\"text-align: center;\"> Adve nture </th><th style=\"text-align: center;\"> Anim ation </th><th style=\"text-align: center;\"> Chil dren </th><th style=\"text-align: center;\"> Com edy </th><th style=\"text-align: center;\"> Crime </th><th style=\"text-align: center;\"> Docum entary </th><th style=\"text-align: center;\"> Drama </th><th style=\"text-align: center;\"> Fan tasy </th><th style=\"text-align: center;\"> Hor ror </th><th style=\"text-align: center;\"> Mys tery </th><th style=\"text-align: center;\"> Rom ance </th><th style=\"text-align: center;\"> Sci -Fi </th><th style=\"text-align: center;\"> Thri ller </th></tr>\\n</thead>\\n<tbody>\\n<tr><td style=\"text-align: center;\">    6874    </td><td style=\"text-align: center;\"> 2003 </td><td style=\"text-align: center;\">    4.0     </td><td style=\"text-align: center;\">    1    </td><td style=\"text-align: center;\">     0      </td><td style=\"text-align: center;\">     0      </td><td style=\"text-align: center;\">     0     </td><td style=\"text-align: center;\">    0    </td><td style=\"text-align: center;\">   1   </td><td style=\"text-align: center;\">      0       </td><td style=\"text-align: center;\">   0   </td><td style=\"text-align: center;\">    0     </td><td style=\"text-align: center;\">    0    </td><td style=\"text-align: center;\">    0     </td><td style=\"text-align: center;\">    0     </td><td style=\"text-align: center;\">    0    </td><td style=\"text-align: center;\">     1     </td></tr>\\n<tr><td style=\"text-align: center;\">    8798    </td><td style=\"text-align: center;\"> 2004 </td><td style=\"text-align: center;\">    3.8     </td><td style=\"text-align: center;\">    1    </td><td style=\"text-align: center;\">     0      </td><td style=\"text-align: center;\">     0      </td><td style=\"text-align: center;\">     0     </td><td style=\"text-align: center;\">    0    </td><td style=\"text-align: center;\">   1   </td><td style=\"text-align: center;\">      0       </td><td style=\"text-align: center;\">   1   </td><td style=\"text-align: center;\">    0     </td><td style=\"text-align: center;\">    0    </td><td style=\"text-align: center;\">    0     </td><td style=\"text-align: center;\">    0     </td><td style=\"text-align: center;\">    0    </td><td style=\"text-align: center;\">     1     </td></tr>\\n<tr><td style=\"text-align: center;\">   46970    </td><td style=\"text-align: center;\"> 2006 </td><td style=\"text-align: center;\">    3.2     </td><td style=\"text-align: center;\">    1    </td><td style=\"text-align: center;\">     0      </td><td style=\"text-align: center;\">     0      </td><td style=\"text-align: center;\">     0     </td><td style=\"text-align: center;\">    1    </td><td style=\"text-align: center;\">   0   </td><td style=\"text-align: center;\">      0       </td><td style=\"text-align: center;\">   0   </td><td style=\"text-align: center;\">    0     </td><td style=\"text-align: center;\">    0    </td><td style=\"text-align: center;\">    0     </td><td style=\"text-align: center;\">    0     </td><td style=\"text-align: center;\">    0    </td><td style=\"text-align: center;\">     0     </td></tr>\\n<tr><td style=\"text-align: center;\">   48516    </td><td style=\"text-align: center;\"> 2006 </td><td style=\"text-align: center;\">    4.3     </td><td style=\"text-align: center;\">    0    </td><td style=\"text-align: center;\">     0      </td><td style=\"text-align: center;\">     0      </td><td style=\"text-align: center;\">     0     </td><td style=\"text-align: center;\">    0    </td><td style=\"text-align: center;\">   1   </td><td style=\"text-align: center;\">      0       </td><td style=\"text-align: center;\">   1   </td><td style=\"text-align: center;\">    0     </td><td style=\"text-align: center;\">    0    </td><td style=\"text-align: center;\">    0     </td><td style=\"text-align: center;\">    0     </td><td style=\"text-align: center;\">    0    </td><td style=\"text-align: center;\">     1     </td></tr>\\n<tr><td style=\"text-align: center;\">   58559    </td><td style=\"text-align: center;\"> 2008 </td><td style=\"text-align: center;\">    4.2     </td><td style=\"text-align: center;\">    1    </td><td style=\"text-align: center;\">     0      </td><td style=\"text-align: center;\">     0      </td><td style=\"text-align: center;\">     0     </td><td style=\"text-align: center;\">    0    </td><td style=\"text-align: center;\">   1   </td><td style=\"text-align: center;\">      0       </td><td style=\"text-align: center;\">   1   </td><td style=\"text-align: center;\">    0     </td><td style=\"text-align: center;\">    0    </td><td style=\"text-align: center;\">    0     </td><td style=\"text-align: center;\">    0     </td><td style=\"text-align: center;\">    0    </td><td style=\"text-align: center;\">     0     </td></tr>\\n</tbody>\\n</table>'"
      ]
     },
     "execution_count": 28,
     "metadata": {},
     "output_type": "execute_result"
    }
   ],
   "source": [
    "pprint_train(item_train, item_features, ivs, i_s, maxcount=5, user=False)"
   ]
  },
  {
   "cell_type": "code",
   "execution_count": 29,
   "id": "9debf8a4",
   "metadata": {},
   "outputs": [
    {
     "name": "stdout",
     "output_type": "stream",
     "text": [
      "y_train[:5]: [4.  3.5 4.  4.  4.5]\n"
     ]
    }
   ],
   "source": [
    "print(f\"y_train[:5]: {y_train[:5]}\")\n"
   ]
  },
  {
   "cell_type": "markdown",
   "id": "56943605",
   "metadata": {},
   "source": [
    "## Preparing the training data"
   ]
  },
  {
   "cell_type": "code",
   "execution_count": 30,
   "id": "22406689",
   "metadata": {},
   "outputs": [
    {
     "name": "stdout",
     "output_type": "stream",
     "text": [
      "True\n",
      "True\n"
     ]
    }
   ],
   "source": [
    "# scale training data\n",
    "item_train_unscaled = item_train\n",
    "user_train_unscaled = user_train\n",
    "y_train_unscaled    = y_train\n",
    "\n",
    "scalerItem = StandardScaler()\n",
    "scalerItem.fit(item_train)\n",
    "item_train = scalerItem.transform(item_train)\n",
    "\n",
    "scalerUser = StandardScaler()\n",
    "scalerUser.fit(user_train)\n",
    "user_train = scalerUser.transform(user_train)\n",
    "\n",
    "scalerTarget = MinMaxScaler((-1, 1))\n",
    "scalerTarget.fit(y_train.reshape(-1, 1))\n",
    "y_train = scalerTarget.transform(y_train.reshape(-1, 1))\n",
    "#ynorm_test = scalerTarget.transform(y_test.reshape(-1, 1))\n",
    "\n",
    "print(np.allclose(item_train_unscaled, scalerItem.inverse_transform(item_train)))\n",
    "print(np.allclose(user_train_unscaled, scalerUser.inverse_transform(user_train)))"
   ]
  },
  {
   "cell_type": "code",
   "execution_count": 31,
   "id": "973474cd",
   "metadata": {},
   "outputs": [
    {
     "name": "stdout",
     "output_type": "stream",
     "text": [
      "movie/item training data shape: (40707, 17)\n",
      "movie/item test data shape: (10177, 17)\n"
     ]
    }
   ],
   "source": [
    "item_train, item_test = train_test_split(item_train, train_size=0.80, shuffle=True, random_state=1)\n",
    "user_train, user_test = train_test_split(user_train, train_size=0.80, shuffle=True, random_state=1)\n",
    "y_train, y_test       = train_test_split(y_train,    train_size=0.80, shuffle=True, random_state=1)\n",
    "print(f\"movie/item training data shape: {item_train.shape}\")\n",
    "print(f\"movie/item test data shape: {item_test.shape}\")"
   ]
  },
  {
   "cell_type": "markdown",
   "id": "5879372f",
   "metadata": {},
   "source": [
    "###### The scaled, shuffled data now has a mean of zero."
   ]
  },
  {
   "cell_type": "code",
   "execution_count": 32,
   "id": "5d52f47a",
   "metadata": {},
   "outputs": [
    {
     "data": {
      "text/html": [
       "<table>\n",
       "<thead>\n",
       "<tr><th style=\"text-align: center;\"> [user id] </th><th style=\"text-align: center;\"> [rating count] </th><th style=\"text-align: center;\"> [rating ave] </th><th style=\"text-align: center;\"> Act ion </th><th style=\"text-align: center;\"> Adve nture </th><th style=\"text-align: center;\"> Anim ation </th><th style=\"text-align: center;\"> Chil dren </th><th style=\"text-align: center;\"> Com edy </th><th style=\"text-align: center;\"> Crime </th><th style=\"text-align: center;\"> Docum entary </th><th style=\"text-align: center;\"> Drama </th><th style=\"text-align: center;\"> Fan tasy </th><th style=\"text-align: center;\"> Hor ror </th><th style=\"text-align: center;\"> Mys tery </th><th style=\"text-align: center;\"> Rom ance </th><th style=\"text-align: center;\"> Sci -Fi </th><th style=\"text-align: center;\"> Thri ller </th></tr>\n",
       "</thead>\n",
       "<tbody>\n",
       "<tr><td style=\"text-align: center;\">     1     </td><td style=\"text-align: center;\">       0        </td><td style=\"text-align: center;\">     -1.0     </td><td style=\"text-align: center;\">  -0.8   </td><td style=\"text-align: center;\">    -0.7    </td><td style=\"text-align: center;\">    0.1     </td><td style=\"text-align: center;\">   -0.0    </td><td style=\"text-align: center;\">  -1.2   </td><td style=\"text-align: center;\"> -0.4  </td><td style=\"text-align: center;\">     0.6      </td><td style=\"text-align: center;\"> -0.5  </td><td style=\"text-align: center;\">   -0.5   </td><td style=\"text-align: center;\">  -0.1   </td><td style=\"text-align: center;\">   -0.6   </td><td style=\"text-align: center;\">   -0.6   </td><td style=\"text-align: center;\">  -0.7   </td><td style=\"text-align: center;\">   -0.7    </td></tr>\n",
       "<tr><td style=\"text-align: center;\">     0     </td><td style=\"text-align: center;\">       1        </td><td style=\"text-align: center;\">     -0.7     </td><td style=\"text-align: center;\">  -0.5   </td><td style=\"text-align: center;\">    -0.7    </td><td style=\"text-align: center;\">    -0.1    </td><td style=\"text-align: center;\">   -0.2    </td><td style=\"text-align: center;\">  -0.6   </td><td style=\"text-align: center;\"> -0.2  </td><td style=\"text-align: center;\">     0.7      </td><td style=\"text-align: center;\"> -0.5  </td><td style=\"text-align: center;\">   -0.8   </td><td style=\"text-align: center;\">   0.1   </td><td style=\"text-align: center;\">   -0.0   </td><td style=\"text-align: center;\">   -0.6   </td><td style=\"text-align: center;\">  -0.5   </td><td style=\"text-align: center;\">   -0.4    </td></tr>\n",
       "<tr><td style=\"text-align: center;\">    -1     </td><td style=\"text-align: center;\">       -1       </td><td style=\"text-align: center;\">     -0.2     </td><td style=\"text-align: center;\">   0.3   </td><td style=\"text-align: center;\">    -0.4    </td><td style=\"text-align: center;\">    0.4     </td><td style=\"text-align: center;\">    0.5    </td><td style=\"text-align: center;\">   1.0   </td><td style=\"text-align: center;\">  0.6  </td><td style=\"text-align: center;\">     -1.2     </td><td style=\"text-align: center;\"> -0.3  </td><td style=\"text-align: center;\">   -0.6   </td><td style=\"text-align: center;\">  -2.3   </td><td style=\"text-align: center;\">   -0.1   </td><td style=\"text-align: center;\">   0.0    </td><td style=\"text-align: center;\">   0.4   </td><td style=\"text-align: center;\">   -0.0    </td></tr>\n",
       "<tr><td style=\"text-align: center;\">     0     </td><td style=\"text-align: center;\">       -1       </td><td style=\"text-align: center;\">     0.6      </td><td style=\"text-align: center;\">   0.5   </td><td style=\"text-align: center;\">    0.5     </td><td style=\"text-align: center;\">    0.2     </td><td style=\"text-align: center;\">    0.6    </td><td style=\"text-align: center;\">  -0.1   </td><td style=\"text-align: center;\">  0.5  </td><td style=\"text-align: center;\">     -1.2     </td><td style=\"text-align: center;\">  0.9  </td><td style=\"text-align: center;\">   1.2    </td><td style=\"text-align: center;\">  -2.3   </td><td style=\"text-align: center;\">   -0.1   </td><td style=\"text-align: center;\">   0.0    </td><td style=\"text-align: center;\">   0.2   </td><td style=\"text-align: center;\">    0.3    </td></tr>\n",
       "<tr><td style=\"text-align: center;\">    -1     </td><td style=\"text-align: center;\">       0        </td><td style=\"text-align: center;\">     0.7      </td><td style=\"text-align: center;\">   0.6   </td><td style=\"text-align: center;\">    0.5     </td><td style=\"text-align: center;\">    0.3     </td><td style=\"text-align: center;\">    0.5    </td><td style=\"text-align: center;\">   0.4   </td><td style=\"text-align: center;\">  0.6  </td><td style=\"text-align: center;\">     1.0      </td><td style=\"text-align: center;\">  0.6  </td><td style=\"text-align: center;\">   0.3    </td><td style=\"text-align: center;\">   0.8   </td><td style=\"text-align: center;\">   0.8    </td><td style=\"text-align: center;\">   0.4    </td><td style=\"text-align: center;\">   0.7   </td><td style=\"text-align: center;\">    0.7    </td></tr>\n",
       "</tbody>\n",
       "</table>"
      ],
      "text/plain": [
       "'<table>\\n<thead>\\n<tr><th style=\"text-align: center;\"> [user id] </th><th style=\"text-align: center;\"> [rating count] </th><th style=\"text-align: center;\"> [rating ave] </th><th style=\"text-align: center;\"> Act ion </th><th style=\"text-align: center;\"> Adve nture </th><th style=\"text-align: center;\"> Anim ation </th><th style=\"text-align: center;\"> Chil dren </th><th style=\"text-align: center;\"> Com edy </th><th style=\"text-align: center;\"> Crime </th><th style=\"text-align: center;\"> Docum entary </th><th style=\"text-align: center;\"> Drama </th><th style=\"text-align: center;\"> Fan tasy </th><th style=\"text-align: center;\"> Hor ror </th><th style=\"text-align: center;\"> Mys tery </th><th style=\"text-align: center;\"> Rom ance </th><th style=\"text-align: center;\"> Sci -Fi </th><th style=\"text-align: center;\"> Thri ller </th></tr>\\n</thead>\\n<tbody>\\n<tr><td style=\"text-align: center;\">     1     </td><td style=\"text-align: center;\">       0        </td><td style=\"text-align: center;\">     -1.0     </td><td style=\"text-align: center;\">  -0.8   </td><td style=\"text-align: center;\">    -0.7    </td><td style=\"text-align: center;\">    0.1     </td><td style=\"text-align: center;\">   -0.0    </td><td style=\"text-align: center;\">  -1.2   </td><td style=\"text-align: center;\"> -0.4  </td><td style=\"text-align: center;\">     0.6      </td><td style=\"text-align: center;\"> -0.5  </td><td style=\"text-align: center;\">   -0.5   </td><td style=\"text-align: center;\">  -0.1   </td><td style=\"text-align: center;\">   -0.6   </td><td style=\"text-align: center;\">   -0.6   </td><td style=\"text-align: center;\">  -0.7   </td><td style=\"text-align: center;\">   -0.7    </td></tr>\\n<tr><td style=\"text-align: center;\">     0     </td><td style=\"text-align: center;\">       1        </td><td style=\"text-align: center;\">     -0.7     </td><td style=\"text-align: center;\">  -0.5   </td><td style=\"text-align: center;\">    -0.7    </td><td style=\"text-align: center;\">    -0.1    </td><td style=\"text-align: center;\">   -0.2    </td><td style=\"text-align: center;\">  -0.6   </td><td style=\"text-align: center;\"> -0.2  </td><td style=\"text-align: center;\">     0.7      </td><td style=\"text-align: center;\"> -0.5  </td><td style=\"text-align: center;\">   -0.8   </td><td style=\"text-align: center;\">   0.1   </td><td style=\"text-align: center;\">   -0.0   </td><td style=\"text-align: center;\">   -0.6   </td><td style=\"text-align: center;\">  -0.5   </td><td style=\"text-align: center;\">   -0.4    </td></tr>\\n<tr><td style=\"text-align: center;\">    -1     </td><td style=\"text-align: center;\">       -1       </td><td style=\"text-align: center;\">     -0.2     </td><td style=\"text-align: center;\">   0.3   </td><td style=\"text-align: center;\">    -0.4    </td><td style=\"text-align: center;\">    0.4     </td><td style=\"text-align: center;\">    0.5    </td><td style=\"text-align: center;\">   1.0   </td><td style=\"text-align: center;\">  0.6  </td><td style=\"text-align: center;\">     -1.2     </td><td style=\"text-align: center;\"> -0.3  </td><td style=\"text-align: center;\">   -0.6   </td><td style=\"text-align: center;\">  -2.3   </td><td style=\"text-align: center;\">   -0.1   </td><td style=\"text-align: center;\">   0.0    </td><td style=\"text-align: center;\">   0.4   </td><td style=\"text-align: center;\">   -0.0    </td></tr>\\n<tr><td style=\"text-align: center;\">     0     </td><td style=\"text-align: center;\">       -1       </td><td style=\"text-align: center;\">     0.6      </td><td style=\"text-align: center;\">   0.5   </td><td style=\"text-align: center;\">    0.5     </td><td style=\"text-align: center;\">    0.2     </td><td style=\"text-align: center;\">    0.6    </td><td style=\"text-align: center;\">  -0.1   </td><td style=\"text-align: center;\">  0.5  </td><td style=\"text-align: center;\">     -1.2     </td><td style=\"text-align: center;\">  0.9  </td><td style=\"text-align: center;\">   1.2    </td><td style=\"text-align: center;\">  -2.3   </td><td style=\"text-align: center;\">   -0.1   </td><td style=\"text-align: center;\">   0.0    </td><td style=\"text-align: center;\">   0.2   </td><td style=\"text-align: center;\">    0.3    </td></tr>\\n<tr><td style=\"text-align: center;\">    -1     </td><td style=\"text-align: center;\">       0        </td><td style=\"text-align: center;\">     0.7      </td><td style=\"text-align: center;\">   0.6   </td><td style=\"text-align: center;\">    0.5     </td><td style=\"text-align: center;\">    0.3     </td><td style=\"text-align: center;\">    0.5    </td><td style=\"text-align: center;\">   0.4   </td><td style=\"text-align: center;\">  0.6  </td><td style=\"text-align: center;\">     1.0      </td><td style=\"text-align: center;\">  0.6  </td><td style=\"text-align: center;\">   0.3    </td><td style=\"text-align: center;\">   0.8   </td><td style=\"text-align: center;\">   0.8    </td><td style=\"text-align: center;\">   0.4    </td><td style=\"text-align: center;\">   0.7   </td><td style=\"text-align: center;\">    0.7    </td></tr>\\n</tbody>\\n</table>'"
      ]
     },
     "execution_count": 32,
     "metadata": {},
     "output_type": "execute_result"
    }
   ],
   "source": [
    "pprint_train(user_train, user_features, uvs, u_s, maxcount=5)"
   ]
  },
  {
   "cell_type": "markdown",
   "id": "f5116d6a",
   "metadata": {},
   "source": [
    "### Neural Network Model Implementation"
   ]
  },
  {
   "cell_type": "code",
   "execution_count": 33,
   "id": "a090ddb3",
   "metadata": {},
   "outputs": [
    {
     "name": "stdout",
     "output_type": "stream",
     "text": [
      "Model: \"model\"\n",
      "__________________________________________________________________________________________________\n",
      " Layer (type)                   Output Shape         Param #     Connected to                     \n",
      "==================================================================================================\n",
      " input_1 (InputLayer)           [(None, 14)]         0           []                               \n",
      "                                                                                                  \n",
      " input_2 (InputLayer)           [(None, 16)]         0           []                               \n",
      "                                                                                                  \n",
      " sequential (Sequential)        (None, 32)           40864       ['input_1[0][0]']                \n",
      "                                                                                                  \n",
      " sequential_1 (Sequential)      (None, 32)           41376       ['input_2[0][0]']                \n",
      "                                                                                                  \n",
      " tf.math.l2_normalize (TFOpLamb  (None, 32)          0           ['sequential[0][0]']             \n",
      " da)                                                                                              \n",
      "                                                                                                  \n",
      " tf.math.l2_normalize_1 (TFOpLa  (None, 32)          0           ['sequential_1[0][0]']           \n",
      " mbda)                                                                                            \n",
      "                                                                                                  \n",
      " dot (Dot)                      (None, 1)            0           ['tf.math.l2_normalize[0][0]',   \n",
      "                                                                  'tf.math.l2_normalize_1[0][0]'] \n",
      "                                                                                                  \n",
      "==================================================================================================\n",
      "Total params: 82,240\n",
      "Trainable params: 82,240\n",
      "Non-trainable params: 0\n",
      "__________________________________________________________________________________________________\n"
     ]
    }
   ],
   "source": [
    "num_outputs = 32\n",
    "tf.random.set_seed(1)\n",
    "user_NN = tf.keras.models.Sequential([    \n",
    "        tf.keras.layers.Dense(units = 256 , activation = 'relu' ),\n",
    "        tf.keras.layers.Dense(units = 128 , activation = 'relu'),\n",
    "        tf.keras.layers.Dense(units = 32, activation = 'linear')\n",
    "])\n",
    "\n",
    "item_NN = tf.keras.models.Sequential([     \n",
    "        tf.keras.layers.Dense(units = 256 , activation = 'relu' ),\n",
    "        tf.keras.layers.Dense(units = 128 , activation = 'relu'),\n",
    "        tf.keras.layers.Dense(units = 32, activation = 'linear') \n",
    "])\n",
    "\n",
    "# create the user input and point to the base network\n",
    "input_user = tf.keras.layers.Input(shape=(num_user_features))\n",
    "vu = user_NN(input_user)\n",
    "vu = tf.linalg.l2_normalize(vu, axis=1)\n",
    "\n",
    "# create the item input and point to the base network\n",
    "input_item = tf.keras.layers.Input(shape=(num_item_features))\n",
    "vm = item_NN(input_item)\n",
    "vm = tf.linalg.l2_normalize(vm, axis=1)\n",
    "\n",
    "# compute the dot product of the two vectors vu and vm\n",
    "output = tf.keras.layers.Dot(axes=1)([vu, vm])\n",
    "\n",
    "# specify the inputs and output of the model\n",
    "model = tf.keras.Model([input_user, input_item], output)\n",
    "\n",
    "model.summary()"
   ]
  },
  {
   "cell_type": "markdown",
   "id": "5de26a07",
   "metadata": {},
   "source": [
    "We use a mean squared error loss and an Adam optimizer."
   ]
  },
  {
   "cell_type": "code",
   "execution_count": 34,
   "id": "74aab1f4",
   "metadata": {},
   "outputs": [],
   "source": [
    "tf.random.set_seed(1)\n",
    "cost_fn = tf.keras.losses.MeanSquaredError()\n",
    "opt = keras.optimizers.Adam(learning_rate=0.01)\n",
    "model.compile(optimizer=opt,\n",
    "              loss=cost_fn)"
   ]
  },
  {
   "cell_type": "code",
   "execution_count": 35,
   "id": "940902db",
   "metadata": {},
   "outputs": [
    {
     "name": "stdout",
     "output_type": "stream",
     "text": [
      "Epoch 1/30\n",
      "1273/1273 [==============================] - 3s 2ms/step - loss: 0.1241\n",
      "Epoch 2/30\n",
      "1273/1273 [==============================] - 2s 2ms/step - loss: 0.1153\n",
      "Epoch 3/30\n",
      "1273/1273 [==============================] - 2s 2ms/step - loss: 0.1119\n",
      "Epoch 4/30\n",
      "1273/1273 [==============================] - 3s 2ms/step - loss: 0.1075\n",
      "Epoch 5/30\n",
      "1273/1273 [==============================] - 2s 2ms/step - loss: 0.1049\n",
      "Epoch 6/30\n",
      "1273/1273 [==============================] - 2s 2ms/step - loss: 0.1022\n",
      "Epoch 7/30\n",
      "1273/1273 [==============================] - 2s 2ms/step - loss: 0.0996\n",
      "Epoch 8/30\n",
      "1273/1273 [==============================] - 2s 2ms/step - loss: 0.0974\n",
      "Epoch 9/30\n",
      "1273/1273 [==============================] - 2s 2ms/step - loss: 0.0953\n",
      "Epoch 10/30\n",
      "1273/1273 [==============================] - 2s 2ms/step - loss: 0.0936\n",
      "Epoch 11/30\n",
      "1273/1273 [==============================] - 2s 2ms/step - loss: 0.0920\n",
      "Epoch 12/30\n",
      "1273/1273 [==============================] - 2s 2ms/step - loss: 0.0902\n",
      "Epoch 13/30\n",
      "1273/1273 [==============================] - 2s 2ms/step - loss: 0.0891\n",
      "Epoch 14/30\n",
      "1273/1273 [==============================] - 2s 2ms/step - loss: 0.0878\n",
      "Epoch 15/30\n",
      "1273/1273 [==============================] - 2s 2ms/step - loss: 0.0864\n",
      "Epoch 16/30\n",
      "1273/1273 [==============================] - 2s 2ms/step - loss: 0.0850\n",
      "Epoch 17/30\n",
      "1273/1273 [==============================] - 2s 2ms/step - loss: 0.0838\n",
      "Epoch 18/30\n",
      "1273/1273 [==============================] - 2s 2ms/step - loss: 0.0826\n",
      "Epoch 19/30\n",
      "1273/1273 [==============================] - 3s 2ms/step - loss: 0.0816\n",
      "Epoch 20/30\n",
      "1273/1273 [==============================] - 2s 2ms/step - loss: 0.0806\n",
      "Epoch 21/30\n",
      "1273/1273 [==============================] - 2s 2ms/step - loss: 0.0796\n",
      "Epoch 22/30\n",
      "1273/1273 [==============================] - 2s 2ms/step - loss: 0.0788\n",
      "Epoch 23/30\n",
      "1273/1273 [==============================] - 2s 2ms/step - loss: 0.0779\n",
      "Epoch 24/30\n",
      "1273/1273 [==============================] - 2s 2ms/step - loss: 0.0770\n",
      "Epoch 25/30\n",
      "1273/1273 [==============================] - 2s 2ms/step - loss: 0.0762\n",
      "Epoch 26/30\n",
      "1273/1273 [==============================] - 2s 2ms/step - loss: 0.0755\n",
      "Epoch 27/30\n",
      "1273/1273 [==============================] - 2s 2ms/step - loss: 0.0747\n",
      "Epoch 28/30\n",
      "1273/1273 [==============================] - 2s 2ms/step - loss: 0.0739\n",
      "Epoch 29/30\n",
      "1273/1273 [==============================] - 2s 2ms/step - loss: 0.0734\n",
      "Epoch 30/30\n",
      "1273/1273 [==============================] - 2s 2ms/step - loss: 0.0728\n"
     ]
    },
    {
     "data": {
      "text/plain": [
       "<keras.callbacks.History at 0x23734264c40>"
      ]
     },
     "execution_count": 35,
     "metadata": {},
     "output_type": "execute_result"
    }
   ],
   "source": [
    "tf.random.set_seed(1)\n",
    "model.fit([user_train[:, u_s:], item_train[:, i_s:]], y_train, epochs=30)"
   ]
  },
  {
   "cell_type": "markdown",
   "id": "8737f1f5",
   "metadata": {},
   "source": [
    "Evaluate the model to determine loss on the test data."
   ]
  },
  {
   "cell_type": "code",
   "execution_count": 36,
   "id": "de460ca5",
   "metadata": {},
   "outputs": [
    {
     "name": "stdout",
     "output_type": "stream",
     "text": [
      "319/319 [==============================] - 1s 1ms/step - loss: 0.0821\n"
     ]
    },
    {
     "data": {
      "text/plain": [
       "0.08211665600538254"
      ]
     },
     "execution_count": 36,
     "metadata": {},
     "output_type": "execute_result"
    }
   ],
   "source": [
    "model.evaluate([user_test[:, u_s:], item_test[:, i_s:]], y_test)"
   ]
  },
  {
   "cell_type": "markdown",
   "id": "fe6d7140",
   "metadata": {},
   "source": [
    "It is comparable to the training loss indicating the model has not substantially overfit the training data."
   ]
  },
  {
   "cell_type": "markdown",
   "id": "5cf89b5c",
   "metadata": {},
   "source": [
    "## Predictions"
   ]
  },
  {
   "cell_type": "markdown",
   "id": "bafa2eeb",
   "metadata": {},
   "source": [
    "##### Predictions for an existing user"
   ]
  },
  {
   "cell_type": "code",
   "execution_count": 41,
   "id": "18d31212",
   "metadata": {},
   "outputs": [
    {
     "name": "stdout",
     "output_type": "stream",
     "text": [
      "27/27 [==============================] - 0s 1ms/step\n"
     ]
    },
    {
     "data": {
      "text/html": [
       "<table>\n",
       "<thead>\n",
       "<tr><th style=\"text-align: right;\">  y_p</th><th style=\"text-align: right;\">  y</th><th style=\"text-align: right;\">  user</th><th>user genre ave           </th><th style=\"text-align: right;\">  movie rating ave</th><th style=\"text-align: right;\">  movie id</th><th>title                                             </th><th>genres                                    </th></tr>\n",
       "</thead>\n",
       "<tbody>\n",
       "<tr><td style=\"text-align: right;\">  4.4</td><td style=\"text-align: right;\">5.0</td><td style=\"text-align: right;\">     2</td><td>[4.0]                    </td><td style=\"text-align: right;\">               4.3</td><td style=\"text-align: right;\">     80906</td><td>Inside Job (2010)                                 </td><td>Documentary                               </td></tr>\n",
       "<tr><td style=\"text-align: right;\">  4.2</td><td style=\"text-align: right;\">4.0</td><td style=\"text-align: right;\">     2</td><td>[4.0,4.1,3.9]            </td><td style=\"text-align: right;\">               4.0</td><td style=\"text-align: right;\">      6874</td><td>Kill Bill: Vol. 1 (2003)                          </td><td>Action|Crime|Thriller                     </td></tr>\n",
       "<tr><td style=\"text-align: right;\">  4.2</td><td style=\"text-align: right;\">4.0</td><td style=\"text-align: right;\">     2</td><td>[4.0,4.1,4.0,4.0,3.9,3.9]</td><td style=\"text-align: right;\">               4.1</td><td style=\"text-align: right;\">     79132</td><td>Inception (2010)                                  </td><td>Action|Crime|Drama|Mystery|Sci-Fi|Thriller</td></tr>\n",
       "<tr><td style=\"text-align: right;\">  4.1</td><td style=\"text-align: right;\">4.5</td><td style=\"text-align: right;\">     2</td><td>[4.0,4.0]                </td><td style=\"text-align: right;\">               4.1</td><td style=\"text-align: right;\">     68157</td><td>Inglourious Basterds (2009)                       </td><td>Action|Drama                              </td></tr>\n",
       "<tr><td style=\"text-align: right;\">  4.1</td><td style=\"text-align: right;\">3.5</td><td style=\"text-align: right;\">     2</td><td>[4.0,4.2,4.1]            </td><td style=\"text-align: right;\">               4.0</td><td style=\"text-align: right;\">     91529</td><td>Dark Knight Rises, The (2012)                     </td><td>Action|Adventure|Crime                    </td></tr>\n",
       "<tr><td style=\"text-align: right;\">  4.0</td><td style=\"text-align: right;\">4.5</td><td style=\"text-align: right;\">     2</td><td>[4.0,4.1,4.0]            </td><td style=\"text-align: right;\">               4.2</td><td style=\"text-align: right;\">     58559</td><td>Dark Knight, The (2008)                           </td><td>Action|Crime|Drama                        </td></tr>\n",
       "<tr><td style=\"text-align: right;\">  4.0</td><td style=\"text-align: right;\">3.5</td><td style=\"text-align: right;\">     2</td><td>[4.0,4.0]                </td><td style=\"text-align: right;\">               3.9</td><td style=\"text-align: right;\">     99114</td><td>Django Unchained (2012)                           </td><td>Action|Drama                              </td></tr>\n",
       "<tr><td style=\"text-align: right;\">  4.0</td><td style=\"text-align: right;\">3.5</td><td style=\"text-align: right;\">     2</td><td>[4.0,4.1,4.0,3.9]        </td><td style=\"text-align: right;\">               3.8</td><td style=\"text-align: right;\">      8798</td><td>Collateral (2004)                                 </td><td>Action|Crime|Drama|Thriller               </td></tr>\n",
       "<tr><td style=\"text-align: right;\">  4.0</td><td style=\"text-align: right;\">5.0</td><td style=\"text-align: right;\">     2</td><td>[4.0,4.2,3.9,3.9]        </td><td style=\"text-align: right;\">               3.8</td><td style=\"text-align: right;\">    122882</td><td>Mad Max: Fury Road (2015)                         </td><td>Action|Adventure|Sci-Fi|Thriller          </td></tr>\n",
       "<tr><td style=\"text-align: right;\">  3.9</td><td style=\"text-align: right;\">3.0</td><td style=\"text-align: right;\">     2</td><td>[3.9]                    </td><td style=\"text-align: right;\">               4.0</td><td style=\"text-align: right;\">    109487</td><td>Interstellar (2014)                               </td><td>Sci-Fi                                    </td></tr>\n",
       "<tr><td style=\"text-align: right;\">  3.8</td><td style=\"text-align: right;\">5.0</td><td style=\"text-align: right;\">     2</td><td>[4.0,4.1,4.0]            </td><td style=\"text-align: right;\">               3.9</td><td style=\"text-align: right;\">    106782</td><td>Wolf of Wall Street, The (2013)                   </td><td>Comedy|Crime|Drama                        </td></tr>\n",
       "<tr><td style=\"text-align: right;\">  3.8</td><td style=\"text-align: right;\">4.0</td><td style=\"text-align: right;\">     2</td><td>[4.1,4.0,3.9]            </td><td style=\"text-align: right;\">               4.3</td><td style=\"text-align: right;\">     48516</td><td>Departed, The (2006)                              </td><td>Crime|Drama|Thriller                      </td></tr>\n",
       "<tr><td style=\"text-align: right;\">  3.8</td><td style=\"text-align: right;\">4.5</td><td style=\"text-align: right;\">     2</td><td>[4.1,4.0,3.9]            </td><td style=\"text-align: right;\">               4.0</td><td style=\"text-align: right;\">     80489</td><td>Town, The (2010)                                  </td><td>Crime|Drama|Thriller                      </td></tr>\n",
       "<tr><td style=\"text-align: right;\">  3.8</td><td style=\"text-align: right;\">4.0</td><td style=\"text-align: right;\">     2</td><td>[4.0,4.0,3.9]            </td><td style=\"text-align: right;\">               4.0</td><td style=\"text-align: right;\">     74458</td><td>Shutter Island (2010)                             </td><td>Drama|Mystery|Thriller                    </td></tr>\n",
       "<tr><td style=\"text-align: right;\">  3.8</td><td style=\"text-align: right;\">3.5</td><td style=\"text-align: right;\">     2</td><td>[4.0,3.9,3.9]            </td><td style=\"text-align: right;\">               3.9</td><td style=\"text-align: right;\">    115713</td><td>Ex Machina (2015)                                 </td><td>Drama|Sci-Fi|Thriller                     </td></tr>\n",
       "<tr><td style=\"text-align: right;\">  3.8</td><td style=\"text-align: right;\">2.5</td><td style=\"text-align: right;\">     2</td><td>[4.0,3.9]                </td><td style=\"text-align: right;\">               3.5</td><td style=\"text-align: right;\">     91658</td><td>Girl with the Dragon Tattoo, The (2011)           </td><td>Drama|Thriller                            </td></tr>\n",
       "<tr><td style=\"text-align: right;\">  3.8</td><td style=\"text-align: right;\">5.0</td><td style=\"text-align: right;\">     2</td><td>[4.0]                    </td><td style=\"text-align: right;\">               3.7</td><td style=\"text-align: right;\">     89774</td><td>Warrior (2011)                                    </td><td>Drama                                     </td></tr>\n",
       "<tr><td style=\"text-align: right;\">  3.7</td><td style=\"text-align: right;\">4.0</td><td style=\"text-align: right;\">     2</td><td>[4.0]                    </td><td style=\"text-align: right;\">               4.0</td><td style=\"text-align: right;\">    112552</td><td>Whiplash (2014)                                   </td><td>Drama                                     </td></tr>\n",
       "<tr><td style=\"text-align: right;\">  3.6</td><td style=\"text-align: right;\">5.0</td><td style=\"text-align: right;\">     2</td><td>[4.0]                    </td><td style=\"text-align: right;\">               3.6</td><td style=\"text-align: right;\">     60756</td><td>Step Brothers (2008)                              </td><td>Comedy                                    </td></tr>\n",
       "<tr><td style=\"text-align: right;\">  3.5</td><td style=\"text-align: right;\">3.0</td><td style=\"text-align: right;\">     2</td><td>[4.0,4.0,3.0]            </td><td style=\"text-align: right;\">               3.9</td><td style=\"text-align: right;\">     71535</td><td>Zombieland (2009)                                 </td><td>Action|Comedy|Horror                      </td></tr>\n",
       "<tr><td style=\"text-align: right;\">  3.2</td><td style=\"text-align: right;\">4.0</td><td style=\"text-align: right;\">     2</td><td>[4.0,4.0]                </td><td style=\"text-align: right;\">               3.2</td><td style=\"text-align: right;\">     46970</td><td>Talladega Nights: The Ballad of Ricky Bobby (2006)</td><td>Action|Comedy                             </td></tr>\n",
       "<tr><td style=\"text-align: right;\">  3.0</td><td style=\"text-align: right;\">3.0</td><td style=\"text-align: right;\">     2</td><td>[4.0,4.0]                </td><td style=\"text-align: right;\">               4.0</td><td style=\"text-align: right;\">     77455</td><td>Exit Through the Gift Shop (2010)                 </td><td>Comedy|Documentary                        </td></tr>\n",
       "</tbody>\n",
       "</table>"
      ],
      "text/plain": [
       "'<table>\\n<thead>\\n<tr><th style=\"text-align: right;\">  y_p</th><th style=\"text-align: right;\">  y</th><th style=\"text-align: right;\">  user</th><th>user genre ave           </th><th style=\"text-align: right;\">  movie rating ave</th><th style=\"text-align: right;\">  movie id</th><th>title                                             </th><th>genres                                    </th></tr>\\n</thead>\\n<tbody>\\n<tr><td style=\"text-align: right;\">  4.4</td><td style=\"text-align: right;\">5.0</td><td style=\"text-align: right;\">     2</td><td>[4.0]                    </td><td style=\"text-align: right;\">               4.3</td><td style=\"text-align: right;\">     80906</td><td>Inside Job (2010)                                 </td><td>Documentary                               </td></tr>\\n<tr><td style=\"text-align: right;\">  4.2</td><td style=\"text-align: right;\">4.0</td><td style=\"text-align: right;\">     2</td><td>[4.0,4.1,3.9]            </td><td style=\"text-align: right;\">               4.0</td><td style=\"text-align: right;\">      6874</td><td>Kill Bill: Vol. 1 (2003)                          </td><td>Action|Crime|Thriller                     </td></tr>\\n<tr><td style=\"text-align: right;\">  4.2</td><td style=\"text-align: right;\">4.0</td><td style=\"text-align: right;\">     2</td><td>[4.0,4.1,4.0,4.0,3.9,3.9]</td><td style=\"text-align: right;\">               4.1</td><td style=\"text-align: right;\">     79132</td><td>Inception (2010)                                  </td><td>Action|Crime|Drama|Mystery|Sci-Fi|Thriller</td></tr>\\n<tr><td style=\"text-align: right;\">  4.1</td><td style=\"text-align: right;\">4.5</td><td style=\"text-align: right;\">     2</td><td>[4.0,4.0]                </td><td style=\"text-align: right;\">               4.1</td><td style=\"text-align: right;\">     68157</td><td>Inglourious Basterds (2009)                       </td><td>Action|Drama                              </td></tr>\\n<tr><td style=\"text-align: right;\">  4.1</td><td style=\"text-align: right;\">3.5</td><td style=\"text-align: right;\">     2</td><td>[4.0,4.2,4.1]            </td><td style=\"text-align: right;\">               4.0</td><td style=\"text-align: right;\">     91529</td><td>Dark Knight Rises, The (2012)                     </td><td>Action|Adventure|Crime                    </td></tr>\\n<tr><td style=\"text-align: right;\">  4.0</td><td style=\"text-align: right;\">4.5</td><td style=\"text-align: right;\">     2</td><td>[4.0,4.1,4.0]            </td><td style=\"text-align: right;\">               4.2</td><td style=\"text-align: right;\">     58559</td><td>Dark Knight, The (2008)                           </td><td>Action|Crime|Drama                        </td></tr>\\n<tr><td style=\"text-align: right;\">  4.0</td><td style=\"text-align: right;\">3.5</td><td style=\"text-align: right;\">     2</td><td>[4.0,4.0]                </td><td style=\"text-align: right;\">               3.9</td><td style=\"text-align: right;\">     99114</td><td>Django Unchained (2012)                           </td><td>Action|Drama                              </td></tr>\\n<tr><td style=\"text-align: right;\">  4.0</td><td style=\"text-align: right;\">3.5</td><td style=\"text-align: right;\">     2</td><td>[4.0,4.1,4.0,3.9]        </td><td style=\"text-align: right;\">               3.8</td><td style=\"text-align: right;\">      8798</td><td>Collateral (2004)                                 </td><td>Action|Crime|Drama|Thriller               </td></tr>\\n<tr><td style=\"text-align: right;\">  4.0</td><td style=\"text-align: right;\">5.0</td><td style=\"text-align: right;\">     2</td><td>[4.0,4.2,3.9,3.9]        </td><td style=\"text-align: right;\">               3.8</td><td style=\"text-align: right;\">    122882</td><td>Mad Max: Fury Road (2015)                         </td><td>Action|Adventure|Sci-Fi|Thriller          </td></tr>\\n<tr><td style=\"text-align: right;\">  3.9</td><td style=\"text-align: right;\">3.0</td><td style=\"text-align: right;\">     2</td><td>[3.9]                    </td><td style=\"text-align: right;\">               4.0</td><td style=\"text-align: right;\">    109487</td><td>Interstellar (2014)                               </td><td>Sci-Fi                                    </td></tr>\\n<tr><td style=\"text-align: right;\">  3.8</td><td style=\"text-align: right;\">5.0</td><td style=\"text-align: right;\">     2</td><td>[4.0,4.1,4.0]            </td><td style=\"text-align: right;\">               3.9</td><td style=\"text-align: right;\">    106782</td><td>Wolf of Wall Street, The (2013)                   </td><td>Comedy|Crime|Drama                        </td></tr>\\n<tr><td style=\"text-align: right;\">  3.8</td><td style=\"text-align: right;\">4.0</td><td style=\"text-align: right;\">     2</td><td>[4.1,4.0,3.9]            </td><td style=\"text-align: right;\">               4.3</td><td style=\"text-align: right;\">     48516</td><td>Departed, The (2006)                              </td><td>Crime|Drama|Thriller                      </td></tr>\\n<tr><td style=\"text-align: right;\">  3.8</td><td style=\"text-align: right;\">4.5</td><td style=\"text-align: right;\">     2</td><td>[4.1,4.0,3.9]            </td><td style=\"text-align: right;\">               4.0</td><td style=\"text-align: right;\">     80489</td><td>Town, The (2010)                                  </td><td>Crime|Drama|Thriller                      </td></tr>\\n<tr><td style=\"text-align: right;\">  3.8</td><td style=\"text-align: right;\">4.0</td><td style=\"text-align: right;\">     2</td><td>[4.0,4.0,3.9]            </td><td style=\"text-align: right;\">               4.0</td><td style=\"text-align: right;\">     74458</td><td>Shutter Island (2010)                             </td><td>Drama|Mystery|Thriller                    </td></tr>\\n<tr><td style=\"text-align: right;\">  3.8</td><td style=\"text-align: right;\">3.5</td><td style=\"text-align: right;\">     2</td><td>[4.0,3.9,3.9]            </td><td style=\"text-align: right;\">               3.9</td><td style=\"text-align: right;\">    115713</td><td>Ex Machina (2015)                                 </td><td>Drama|Sci-Fi|Thriller                     </td></tr>\\n<tr><td style=\"text-align: right;\">  3.8</td><td style=\"text-align: right;\">2.5</td><td style=\"text-align: right;\">     2</td><td>[4.0,3.9]                </td><td style=\"text-align: right;\">               3.5</td><td style=\"text-align: right;\">     91658</td><td>Girl with the Dragon Tattoo, The (2011)           </td><td>Drama|Thriller                            </td></tr>\\n<tr><td style=\"text-align: right;\">  3.8</td><td style=\"text-align: right;\">5.0</td><td style=\"text-align: right;\">     2</td><td>[4.0]                    </td><td style=\"text-align: right;\">               3.7</td><td style=\"text-align: right;\">     89774</td><td>Warrior (2011)                                    </td><td>Drama                                     </td></tr>\\n<tr><td style=\"text-align: right;\">  3.7</td><td style=\"text-align: right;\">4.0</td><td style=\"text-align: right;\">     2</td><td>[4.0]                    </td><td style=\"text-align: right;\">               4.0</td><td style=\"text-align: right;\">    112552</td><td>Whiplash (2014)                                   </td><td>Drama                                     </td></tr>\\n<tr><td style=\"text-align: right;\">  3.6</td><td style=\"text-align: right;\">5.0</td><td style=\"text-align: right;\">     2</td><td>[4.0]                    </td><td style=\"text-align: right;\">               3.6</td><td style=\"text-align: right;\">     60756</td><td>Step Brothers (2008)                              </td><td>Comedy                                    </td></tr>\\n<tr><td style=\"text-align: right;\">  3.5</td><td style=\"text-align: right;\">3.0</td><td style=\"text-align: right;\">     2</td><td>[4.0,4.0,3.0]            </td><td style=\"text-align: right;\">               3.9</td><td style=\"text-align: right;\">     71535</td><td>Zombieland (2009)                                 </td><td>Action|Comedy|Horror                      </td></tr>\\n<tr><td style=\"text-align: right;\">  3.2</td><td style=\"text-align: right;\">4.0</td><td style=\"text-align: right;\">     2</td><td>[4.0,4.0]                </td><td style=\"text-align: right;\">               3.2</td><td style=\"text-align: right;\">     46970</td><td>Talladega Nights: The Ballad of Ricky Bobby (2006)</td><td>Action|Comedy                             </td></tr>\\n<tr><td style=\"text-align: right;\">  3.0</td><td style=\"text-align: right;\">3.0</td><td style=\"text-align: right;\">     2</td><td>[4.0,4.0]                </td><td style=\"text-align: right;\">               4.0</td><td style=\"text-align: right;\">     77455</td><td>Exit Through the Gift Shop (2010)                 </td><td>Comedy|Documentary                        </td></tr>\\n</tbody>\\n</table>'"
      ]
     },
     "execution_count": 41,
     "metadata": {},
     "output_type": "execute_result"
    }
   ],
   "source": [
    "uid = 2 \n",
    "# form a set of user vectors. This is the same vector, transformed and repeated.\n",
    "user_vecs, y_vecs = get_user_vecs(uid, user_train_unscaled, item_vecs, user_to_genre)\n",
    "\n",
    "# scale our user and item vectors\n",
    "suser_vecs = scalerUser.transform(user_vecs)\n",
    "sitem_vecs = scalerItem.transform(item_vecs)\n",
    "\n",
    "# make a prediction\n",
    "y_p = model.predict([suser_vecs[:, u_s:], sitem_vecs[:, i_s:]])\n",
    "\n",
    "# unscale y prediction \n",
    "y_pu = scalerTarget.inverse_transform(y_p)\n",
    "\n",
    "# sort the results, highest prediction first\n",
    "sorted_index = np.argsort(-y_pu,axis=0).reshape(-1).tolist()  #negate to get largest rating first\n",
    "sorted_ypu   = y_pu[sorted_index]\n",
    "sorted_items = item_vecs[sorted_index]  #using unscaled vectors for display\n",
    "sorted_user  = user_vecs[sorted_index]\n",
    "sorted_y     = y_vecs[sorted_index]\n",
    "\n",
    "#print sorted predictions for movies rated by the user\n",
    "print_existing_user(sorted_ypu, sorted_y.reshape(-1,1), sorted_user, sorted_items, ivs, uvs, movie_dict, maxcount = 50)"
   ]
  },
  {
   "cell_type": "markdown",
   "id": "4c341368",
   "metadata": {},
   "source": [
    "###### Predictions for a new user"
   ]
  },
  {
   "cell_type": "code",
   "execution_count": 37,
   "id": "bf5f141f",
   "metadata": {},
   "outputs": [],
   "source": [
    "new_user_id = 5000\n",
    "new_rating_ave = 0.0\n",
    "new_action = 0.0\n",
    "new_adventure = 5.0\n",
    "new_animation = 0.0\n",
    "new_childrens = 0.0\n",
    "new_comedy = 0.0\n",
    "new_crime = 0.0\n",
    "new_documentary = 0.0\n",
    "new_drama = 0.0\n",
    "new_fantasy = 5.0\n",
    "new_horror = 0.0\n",
    "new_mystery = 0.0\n",
    "new_romance = 0.0\n",
    "new_scifi = 0.0\n",
    "new_thriller = 0.0\n",
    "new_rating_count = 3\n",
    "\n",
    "user_vec = np.array([[new_user_id, new_rating_count, new_rating_ave,\n",
    "                      new_action, new_adventure, new_animation, new_childrens,\n",
    "                      new_comedy, new_crime, new_documentary,\n",
    "                      new_drama, new_fantasy, new_horror, new_mystery,\n",
    "                      new_romance, new_scifi, new_thriller]])"
   ]
  },
  {
   "cell_type": "code",
   "execution_count": 38,
   "id": "e8389afe",
   "metadata": {},
   "outputs": [
    {
     "name": "stdout",
     "output_type": "stream",
     "text": [
      "27/27 [==============================] - 0s 1ms/step\n"
     ]
    },
    {
     "data": {
      "text/html": [
       "<table>\n",
       "<thead>\n",
       "<tr><th style=\"text-align: right;\">  y_p</th><th style=\"text-align: right;\">  movie id</th><th style=\"text-align: right;\">  rating ave</th><th>title                                                    </th><th>genres                    </th></tr>\n",
       "</thead>\n",
       "<tbody>\n",
       "<tr><td style=\"text-align: right;\">  4.3</td><td style=\"text-align: right;\">      8368</td><td style=\"text-align: right;\">         3.9</td><td>Harry Potter and the Prisoner of Azkaban (2004)          </td><td>Adventure|Fantasy         </td></tr>\n",
       "<tr><td style=\"text-align: right;\">  4.2</td><td style=\"text-align: right;\">     40815</td><td style=\"text-align: right;\">         3.8</td><td>Harry Potter and the Goblet of Fire (2005)               </td><td>Adventure|Fantasy|Thriller</td></tr>\n",
       "<tr><td style=\"text-align: right;\">  4.2</td><td style=\"text-align: right;\">      5952</td><td style=\"text-align: right;\">         4  </td><td>Lord of the Rings: The Two Towers, The (2002)            </td><td>Adventure|Fantasy         </td></tr>\n",
       "<tr><td style=\"text-align: right;\">  4.2</td><td style=\"text-align: right;\">     54001</td><td style=\"text-align: right;\">         3.9</td><td>Harry Potter and the Order of the Phoenix (2007)         </td><td>Adventure|Drama|Fantasy   </td></tr>\n",
       "<tr><td style=\"text-align: right;\">  4.2</td><td style=\"text-align: right;\">     98809</td><td style=\"text-align: right;\">         3.8</td><td>Hobbit: An Unexpected Journey, The (2012)                </td><td>Adventure|Fantasy         </td></tr>\n",
       "<tr><td style=\"text-align: right;\">  4.2</td><td style=\"text-align: right;\">      5816</td><td style=\"text-align: right;\">         3.6</td><td>Harry Potter and the Chamber of Secrets (2002)           </td><td>Adventure|Fantasy         </td></tr>\n",
       "<tr><td style=\"text-align: right;\">  4.2</td><td style=\"text-align: right;\">     59387</td><td style=\"text-align: right;\">         4  </td><td>Fall, The (2006)                                         </td><td>Adventure|Drama|Fantasy   </td></tr>\n",
       "<tr><td style=\"text-align: right;\">  4.1</td><td style=\"text-align: right;\">     81834</td><td style=\"text-align: right;\">         4  </td><td>Harry Potter and the Deathly Hallows: Part 1 (2010)      </td><td>Action|Adventure|Fantasy  </td></tr>\n",
       "<tr><td style=\"text-align: right;\">  4.1</td><td style=\"text-align: right;\">      4993</td><td style=\"text-align: right;\">         4.1</td><td>Lord of the Rings: The Fellowship of the Ring, The (2001)</td><td>Adventure|Fantasy         </td></tr>\n",
       "<tr><td style=\"text-align: right;\">  4.1</td><td style=\"text-align: right;\">    106489</td><td style=\"text-align: right;\">         3.6</td><td>Hobbit: The Desolation of Smaug, The (2013)              </td><td>Adventure|Fantasy         </td></tr>\n",
       "</tbody>\n",
       "</table>"
      ],
      "text/plain": [
       "'<table>\\n<thead>\\n<tr><th style=\"text-align: right;\">  y_p</th><th style=\"text-align: right;\">  movie id</th><th style=\"text-align: right;\">  rating ave</th><th>title                                                    </th><th>genres                    </th></tr>\\n</thead>\\n<tbody>\\n<tr><td style=\"text-align: right;\">  4.3</td><td style=\"text-align: right;\">      8368</td><td style=\"text-align: right;\">         3.9</td><td>Harry Potter and the Prisoner of Azkaban (2004)          </td><td>Adventure|Fantasy         </td></tr>\\n<tr><td style=\"text-align: right;\">  4.2</td><td style=\"text-align: right;\">     40815</td><td style=\"text-align: right;\">         3.8</td><td>Harry Potter and the Goblet of Fire (2005)               </td><td>Adventure|Fantasy|Thriller</td></tr>\\n<tr><td style=\"text-align: right;\">  4.2</td><td style=\"text-align: right;\">      5952</td><td style=\"text-align: right;\">         4  </td><td>Lord of the Rings: The Two Towers, The (2002)            </td><td>Adventure|Fantasy         </td></tr>\\n<tr><td style=\"text-align: right;\">  4.2</td><td style=\"text-align: right;\">     54001</td><td style=\"text-align: right;\">         3.9</td><td>Harry Potter and the Order of the Phoenix (2007)         </td><td>Adventure|Drama|Fantasy   </td></tr>\\n<tr><td style=\"text-align: right;\">  4.2</td><td style=\"text-align: right;\">     98809</td><td style=\"text-align: right;\">         3.8</td><td>Hobbit: An Unexpected Journey, The (2012)                </td><td>Adventure|Fantasy         </td></tr>\\n<tr><td style=\"text-align: right;\">  4.2</td><td style=\"text-align: right;\">      5816</td><td style=\"text-align: right;\">         3.6</td><td>Harry Potter and the Chamber of Secrets (2002)           </td><td>Adventure|Fantasy         </td></tr>\\n<tr><td style=\"text-align: right;\">  4.2</td><td style=\"text-align: right;\">     59387</td><td style=\"text-align: right;\">         4  </td><td>Fall, The (2006)                                         </td><td>Adventure|Drama|Fantasy   </td></tr>\\n<tr><td style=\"text-align: right;\">  4.1</td><td style=\"text-align: right;\">     81834</td><td style=\"text-align: right;\">         4  </td><td>Harry Potter and the Deathly Hallows: Part 1 (2010)      </td><td>Action|Adventure|Fantasy  </td></tr>\\n<tr><td style=\"text-align: right;\">  4.1</td><td style=\"text-align: right;\">      4993</td><td style=\"text-align: right;\">         4.1</td><td>Lord of the Rings: The Fellowship of the Ring, The (2001)</td><td>Adventure|Fantasy         </td></tr>\\n<tr><td style=\"text-align: right;\">  4.1</td><td style=\"text-align: right;\">    106489</td><td style=\"text-align: right;\">         3.6</td><td>Hobbit: The Desolation of Smaug, The (2013)              </td><td>Adventure|Fantasy         </td></tr>\\n</tbody>\\n</table>'"
      ]
     },
     "execution_count": 38,
     "metadata": {},
     "output_type": "execute_result"
    }
   ],
   "source": [
    "# generate and replicate the user vector to match the number movies in the data set.\n",
    "user_vecs = gen_user_vecs(user_vec,len(item_vecs))\n",
    "\n",
    "# scale our user and item vectors\n",
    "suser_vecs = scalerUser.transform(user_vecs)\n",
    "sitem_vecs = scalerItem.transform(item_vecs)\n",
    "\n",
    "# make a prediction\n",
    "y_p = model.predict([suser_vecs[:, u_s:], sitem_vecs[:, i_s:]])\n",
    "\n",
    "# unscale y prediction \n",
    "y_pu = scalerTarget.inverse_transform(y_p)\n",
    "\n",
    "# sort the results, highest prediction first\n",
    "sorted_index = np.argsort(-y_pu,axis=0).reshape(-1).tolist()  #negate to get largest rating first\n",
    "sorted_ypu   = y_pu[sorted_index]\n",
    "sorted_items = item_vecs[sorted_index]  #using unscaled vectors for display\n",
    "\n",
    "print_pred_movies(sorted_ypu, sorted_items, movie_dict, maxcount = 10)"
   ]
  },
  {
   "cell_type": "markdown",
   "id": "4d155c86",
   "metadata": {},
   "source": [
    "### Finding Similar Items"
   ]
  },
  {
   "cell_type": "code",
   "execution_count": 42,
   "id": "43a034e1",
   "metadata": {},
   "outputs": [],
   "source": [
    "def sq_dist(a,b):\n",
    "    \"\"\"\n",
    "    Returns the squared distance between two vectors\n",
    "    Args:\n",
    "      a (ndarray (n,)): vector with n features\n",
    "      b (ndarray (n,)): vector with n features\n",
    "    Returns:\n",
    "      d (float) : distance\n",
    "    \"\"\"\n",
    "    n = a.shape[0]\n",
    "    d = 0 \n",
    "    for i in range(n):\n",
    "        d+= ((a[i]-b[i])**2)\n",
    "           \n",
    "    return d"
   ]
  },
  {
   "cell_type": "code",
   "execution_count": 43,
   "id": "f20f77f9",
   "metadata": {},
   "outputs": [
    {
     "name": "stdout",
     "output_type": "stream",
     "text": [
      "squared distance between a1 and b1: 0.000\n",
      "squared distance between a2 and b2: 0.030\n",
      "squared distance between a3 and b3: 2.000\n"
     ]
    }
   ],
   "source": [
    "a1 = np.array([1.0, 2.0, 3.0]); b1 = np.array([1.0, 2.0, 3.0])\n",
    "a2 = np.array([1.1, 2.1, 3.1]); b2 = np.array([1.0, 2.0, 3.0])\n",
    "a3 = np.array([0, 1, 0]);       b3 = np.array([1, 0, 0])\n",
    "print(f\"squared distance between a1 and b1: {sq_dist(a1, b1):0.3f}\")\n",
    "print(f\"squared distance between a2 and b2: {sq_dist(a2, b2):0.3f}\")\n",
    "print(f\"squared distance between a3 and b3: {sq_dist(a3, b3):0.3f}\")"
   ]
  },
  {
   "cell_type": "markdown",
   "id": "b6786788",
   "metadata": {},
   "source": [
    "A matrix of distances between movies can be computed once when the model is trained and then reused for new recommendations without retraining. The first step, once a model is trained, is to obtain the movie feature vector,  𝑣𝑚\n",
    " , for each of the movies. To do this, we will use the trained item_NN and build a small model to allow us to run the movie vectors through it to generate  𝑣𝑚\n",
    " ."
   ]
  },
  {
   "cell_type": "code",
   "execution_count": 44,
   "id": "4eca3f24",
   "metadata": {},
   "outputs": [
    {
     "name": "stdout",
     "output_type": "stream",
     "text": [
      "Model: \"model_1\"\n",
      "_________________________________________________________________\n",
      " Layer (type)                Output Shape              Param #   \n",
      "=================================================================\n",
      " input_3 (InputLayer)        [(None, 16)]              0         \n",
      "                                                                 \n",
      " sequential_1 (Sequential)   (None, 32)                41376     \n",
      "                                                                 \n",
      " tf.math.l2_normalize_2 (TFO  (None, 32)               0         \n",
      " pLambda)                                                        \n",
      "                                                                 \n",
      "=================================================================\n",
      "Total params: 41,376\n",
      "Trainable params: 41,376\n",
      "Non-trainable params: 0\n",
      "_________________________________________________________________\n"
     ]
    }
   ],
   "source": [
    "input_item_m = tf.keras.layers.Input(shape=(num_item_features))    # input layer\n",
    "vm_m = item_NN(input_item_m)                                       # use the trained item_NN\n",
    "vm_m = tf.linalg.l2_normalize(vm_m, axis=1)                        # incorporate normalization as was done in the original model\n",
    "model_m = tf.keras.Model(input_item_m, vm_m)                                \n",
    "model_m.summary()"
   ]
  },
  {
   "cell_type": "code",
   "execution_count": 45,
   "id": "fd775cc2",
   "metadata": {},
   "outputs": [
    {
     "name": "stdout",
     "output_type": "stream",
     "text": [
      "27/27 [==============================] - 0s 1ms/step\n",
      "size of all predicted movie feature vectors: (847, 32)\n"
     ]
    }
   ],
   "source": [
    "scaled_item_vecs = scalerItem.transform(item_vecs)\n",
    "vms = model_m.predict(scaled_item_vecs[:,i_s:])\n",
    "print(f\"size of all predicted movie feature vectors: {vms.shape}\")"
   ]
  },
  {
   "cell_type": "code",
   "execution_count": 46,
   "id": "37a2020a",
   "metadata": {},
   "outputs": [
    {
     "data": {
      "text/html": [
       "<table>\n",
       "<thead>\n",
       "<tr><th>movie1                                  </th><th>genres                                             </th><th>movie2                                                           </th><th>genres                                             </th></tr>\n",
       "</thead>\n",
       "<tbody>\n",
       "<tr><td>Save the Last Dance (2001)              </td><td>Drama|Romance                                      </td><td>Mona Lisa Smile (2003)                                           </td><td>Drama|Romance                                      </td></tr>\n",
       "<tr><td>Wedding Planner, The (2001)             </td><td>Comedy|Romance                                     </td><td>Mr. Deeds (2002)                                                 </td><td>Comedy|Romance                                     </td></tr>\n",
       "<tr><td>Hannibal (2001)                         </td><td>Horror|Thriller                                    </td><td>Final Destination 2 (2003)                                       </td><td>Horror|Thriller                                    </td></tr>\n",
       "<tr><td>Saving Silverman (Evil Woman) (2001)    </td><td>Comedy|Romance                                     </td><td>Sweetest Thing, The (2002)                                       </td><td>Comedy|Romance                                     </td></tr>\n",
       "<tr><td>Down to Earth (2001)                    </td><td>Comedy|Fantasy|Romance                             </td><td>America&#x27;s Sweethearts (2001)                                     </td><td>Comedy|Fantasy|Romance                             </td></tr>\n",
       "<tr><td>Mexican, The (2001)                     </td><td>Action|Comedy                                      </td><td>Rush Hour 2 (2001)                                               </td><td>Action|Comedy                                      </td></tr>\n",
       "<tr><td>15 Minutes (2001)                       </td><td>Thriller                                           </td><td>Panic Room (2002)                                                </td><td>Thriller                                           </td></tr>\n",
       "<tr><td>Enemy at the Gates (2001)               </td><td>Drama                                              </td><td>One Hour Photo (2002)                                            </td><td>Drama                                              </td></tr>\n",
       "<tr><td>Heartbreakers (2001)                    </td><td>Comedy|Crime|Romance                               </td><td>Sex and the City (2008)                                          </td><td>Comedy|Crime|Romance                               </td></tr>\n",
       "<tr><td>Spy Kids (2001)                         </td><td>Action|Adventure|Children|Comedy                   </td><td>Scooby-Doo (2002)                                                </td><td>Action|Adventure|Children|Comedy                   </td></tr>\n",
       "<tr><td>Along Came a Spider (2001)              </td><td>Action|Crime|Mystery|Thriller                      </td><td>Final Destination 2 (2003)                                       </td><td>Action|Crime|Mystery|Thriller                      </td></tr>\n",
       "<tr><td>Blow (2001)                             </td><td>Crime|Drama                                        </td><td>Man Who Wasn&#x27;t There, The (2001)                                 </td><td>Crime|Drama                                        </td></tr>\n",
       "<tr><td>Bridget Jones&#x27;s Diary (2001)            </td><td>Comedy|Drama|Romance                               </td><td>Punch-Drunk Love (2002)                                          </td><td>Comedy|Drama|Romance                               </td></tr>\n",
       "<tr><td>Joe Dirt (2001)                         </td><td>Adventure|Comedy|Mystery|Romance                   </td><td>Alexander (2004)                                                 </td><td>Adventure|Comedy|Mystery|Romance                   </td></tr>\n",
       "<tr><td>Crocodile Dundee in Los Angeles (2001)  </td><td>Comedy|Drama                                       </td><td>Dumb and Dumberer: When Harry Met Lloyd (2003)                   </td><td>Comedy|Drama                                       </td></tr>\n",
       "<tr><td>Mummy Returns, The (2001)               </td><td>Action|Adventure|Comedy|Thriller                   </td><td>Pirates of the Caribbean: On Stranger Tides (2011)               </td><td>Action|Adventure|Comedy|Thriller                   </td></tr>\n",
       "<tr><td>Knight&#x27;s Tale, A (2001)                 </td><td>Action|Comedy|Romance                              </td><td>Bruce Almighty (2003)                                            </td><td>Action|Comedy|Romance                              </td></tr>\n",
       "<tr><td>Shrek (2001)                            </td><td>Adventure|Animation|Children|Comedy|Fantasy|Romance</td><td>Monsters, Inc. (2001)                                            </td><td>Adventure|Animation|Children|Comedy|Fantasy|Romance</td></tr>\n",
       "<tr><td>Moulin Rouge (2001)                     </td><td>Drama|Romance                                      </td><td>Notebook, The (2004)                                             </td><td>Drama|Romance                                      </td></tr>\n",
       "<tr><td>Pearl Harbor (2001)                     </td><td>Action|Drama|Romance                               </td><td>Bridget Jones: The Edge of Reason (2004)                         </td><td>Action|Drama|Romance                               </td></tr>\n",
       "<tr><td>Animal, The (2001)                      </td><td>Comedy                                             </td><td>Dumb and Dumberer: When Harry Met Lloyd (2003)                   </td><td>Comedy                                             </td></tr>\n",
       "<tr><td>Evolution (2001)                        </td><td>Comedy|Sci-Fi                                      </td><td>Behind Enemy Lines (2001)                                        </td><td>Comedy|Sci-Fi                                      </td></tr>\n",
       "<tr><td>Swordfish (2001)                        </td><td>Action|Crime|Drama                                 </td><td>Behind Enemy Lines (2001)                                        </td><td>Action|Crime|Drama                                 </td></tr>\n",
       "<tr><td>Atlantis: The Lost Empire (2001)        </td><td>Adventure|Animation|Children|Fantasy               </td><td>Holes (2003)                                                     </td><td>Adventure|Animation|Children|Fantasy               </td></tr>\n",
       "<tr><td>Lara Croft: Tomb Raider (2001)          </td><td>Action|Adventure                                   </td><td>National Treasure: Book of Secrets (2007)                        </td><td>Action|Adventure                                   </td></tr>\n",
       "<tr><td>Dr. Dolittle 2 (2001)                   </td><td>Comedy                                             </td><td>Legally Blonde 2: Red, White &amp; Blonde (2003)                     </td><td>Comedy                                             </td></tr>\n",
       "<tr><td>Fast and the Furious, The (2001)        </td><td>Action|Crime|Thriller                              </td><td>Transporter 2 (2005)                                             </td><td>Action|Crime|Thriller                              </td></tr>\n",
       "<tr><td>A.I. Artificial Intelligence (2001)     </td><td>Adventure|Drama|Sci-Fi                             </td><td>Rookie, The (2002)                                               </td><td>Adventure|Drama|Sci-Fi                             </td></tr>\n",
       "<tr><td>Cats &amp; Dogs (2001)                      </td><td>Children|Comedy                                    </td><td>Shrek the Third (2007)                                           </td><td>Children|Comedy                                    </td></tr>\n",
       "<tr><td>Scary Movie 2 (2001)                    </td><td>Comedy                                             </td><td>Orange County (2002)                                             </td><td>Comedy                                             </td></tr>\n",
       "<tr><td>Final Fantasy: The Spirits Within (2001)</td><td>Adventure|Animation|Fantasy|Sci-Fi                 </td><td>Final Fantasy VII: Advent Children (2004)                        </td><td>Adventure|Animation|Fantasy|Sci-Fi                 </td></tr>\n",
       "<tr><td>Legally Blonde (2001)                   </td><td>Comedy|Romance                                     </td><td>Serendipity (2001)                                               </td><td>Comedy|Romance                                     </td></tr>\n",
       "<tr><td>Score, The (2001)                       </td><td>Action|Drama                                       </td><td>We Were Soldiers (2002)                                          </td><td>Action|Drama                                       </td></tr>\n",
       "<tr><td>Jurassic Park III (2001)                </td><td>Action|Adventure|Sci-Fi|Thriller                   </td><td>Paycheck (2003)                                                  </td><td>Action|Adventure|Sci-Fi|Thriller                   </td></tr>\n",
       "<tr><td>America&#x27;s Sweethearts (2001)            </td><td>Comedy|Romance                                     </td><td>Maid in Manhattan (2002)                                         </td><td>Comedy|Romance                                     </td></tr>\n",
       "<tr><td>Ghost World (2001)                      </td><td>Comedy|Drama                                       </td><td>Igby Goes Down (2002)                                            </td><td>Comedy|Drama                                       </td></tr>\n",
       "<tr><td>Planet of the Apes (2001)               </td><td>Action|Adventure|Drama|Sci-Fi                      </td><td>King Arthur (2004)                                               </td><td>Action|Adventure|Drama|Sci-Fi                      </td></tr>\n",
       "<tr><td>Princess Diaries, The (2001)            </td><td>Children|Comedy|Romance                            </td><td>Phantom of the Opera, The (2004)                                 </td><td>Children|Comedy|Romance                            </td></tr>\n",
       "<tr><td>Rush Hour 2 (2001)                      </td><td>Action|Comedy                                      </td><td>Mexican, The (2001)                                              </td><td>Action|Comedy                                      </td></tr>\n",
       "<tr><td>American Pie 2 (2001)                   </td><td>Comedy                                             </td><td>Rat Race (2001)                                                  </td><td>Comedy                                             </td></tr>\n",
       "<tr><td>Others, The (2001)                      </td><td>Drama|Horror|Mystery|Thriller                      </td><td>Scanner Darkly, A (2006)                                         </td><td>Drama|Horror|Mystery|Thriller                      </td></tr>\n",
       "<tr><td>Rat Race (2001)                         </td><td>Comedy                                             </td><td>American Pie 2 (2001)                                            </td><td>Comedy                                             </td></tr>\n",
       "<tr><td>Jay and Silent Bob Strike Back (2001)   </td><td>Adventure|Comedy                                   </td><td>EuroTrip (2004)                                                  </td><td>Adventure|Comedy                                   </td></tr>\n",
       "<tr><td>Training Day (2001)                     </td><td>Crime|Drama|Thriller                               </td><td>Frailty (2001)                                                   </td><td>Crime|Drama|Thriller                               </td></tr>\n",
       "<tr><td>Zoolander (2001)                        </td><td>Comedy                                             </td><td>Old School (2003)                                                </td><td>Comedy                                             </td></tr>\n",
       "<tr><td>Serendipity (2001)                      </td><td>Comedy|Romance                                     </td><td>Legally Blonde (2001)                                            </td><td>Comedy|Romance                                     </td></tr>\n",
       "<tr><td>Mulholland Drive (2001)                 </td><td>Crime|Drama|Mystery|Thriller                       </td><td>Mystic River (2003)                                              </td><td>Crime|Drama|Mystery|Thriller                       </td></tr>\n",
       "<tr><td>From Hell (2001)                        </td><td>Crime|Horror|Mystery|Thriller                      </td><td>Identity (2003)                                                  </td><td>Crime|Horror|Mystery|Thriller                      </td></tr>\n",
       "<tr><td>Waking Life (2001)                      </td><td>Animation|Drama|Fantasy                            </td><td>Triplets of Belleville, The (Les triplettes de Belleville) (2003)</td><td>Animation|Drama|Fantasy                            </td></tr>\n",
       "<tr><td>K-PAX (2001)                            </td><td>Drama|Fantasy|Mystery|Sci-Fi                       </td><td>Gosford Park (2001)                                              </td><td>Drama|Fantasy|Mystery|Sci-Fi                       </td></tr>\n",
       "</tbody>\n",
       "</table>"
      ],
      "text/plain": [
       "'<table>\\n<thead>\\n<tr><th>movie1                                  </th><th>genres                                             </th><th>movie2                                                           </th><th>genres                                             </th></tr>\\n</thead>\\n<tbody>\\n<tr><td>Save the Last Dance (2001)              </td><td>Drama|Romance                                      </td><td>Mona Lisa Smile (2003)                                           </td><td>Drama|Romance                                      </td></tr>\\n<tr><td>Wedding Planner, The (2001)             </td><td>Comedy|Romance                                     </td><td>Mr. Deeds (2002)                                                 </td><td>Comedy|Romance                                     </td></tr>\\n<tr><td>Hannibal (2001)                         </td><td>Horror|Thriller                                    </td><td>Final Destination 2 (2003)                                       </td><td>Horror|Thriller                                    </td></tr>\\n<tr><td>Saving Silverman (Evil Woman) (2001)    </td><td>Comedy|Romance                                     </td><td>Sweetest Thing, The (2002)                                       </td><td>Comedy|Romance                                     </td></tr>\\n<tr><td>Down to Earth (2001)                    </td><td>Comedy|Fantasy|Romance                             </td><td>America&#x27;s Sweethearts (2001)                                     </td><td>Comedy|Fantasy|Romance                             </td></tr>\\n<tr><td>Mexican, The (2001)                     </td><td>Action|Comedy                                      </td><td>Rush Hour 2 (2001)                                               </td><td>Action|Comedy                                      </td></tr>\\n<tr><td>15 Minutes (2001)                       </td><td>Thriller                                           </td><td>Panic Room (2002)                                                </td><td>Thriller                                           </td></tr>\\n<tr><td>Enemy at the Gates (2001)               </td><td>Drama                                              </td><td>One Hour Photo (2002)                                            </td><td>Drama                                              </td></tr>\\n<tr><td>Heartbreakers (2001)                    </td><td>Comedy|Crime|Romance                               </td><td>Sex and the City (2008)                                          </td><td>Comedy|Crime|Romance                               </td></tr>\\n<tr><td>Spy Kids (2001)                         </td><td>Action|Adventure|Children|Comedy                   </td><td>Scooby-Doo (2002)                                                </td><td>Action|Adventure|Children|Comedy                   </td></tr>\\n<tr><td>Along Came a Spider (2001)              </td><td>Action|Crime|Mystery|Thriller                      </td><td>Final Destination 2 (2003)                                       </td><td>Action|Crime|Mystery|Thriller                      </td></tr>\\n<tr><td>Blow (2001)                             </td><td>Crime|Drama                                        </td><td>Man Who Wasn&#x27;t There, The (2001)                                 </td><td>Crime|Drama                                        </td></tr>\\n<tr><td>Bridget Jones&#x27;s Diary (2001)            </td><td>Comedy|Drama|Romance                               </td><td>Punch-Drunk Love (2002)                                          </td><td>Comedy|Drama|Romance                               </td></tr>\\n<tr><td>Joe Dirt (2001)                         </td><td>Adventure|Comedy|Mystery|Romance                   </td><td>Alexander (2004)                                                 </td><td>Adventure|Comedy|Mystery|Romance                   </td></tr>\\n<tr><td>Crocodile Dundee in Los Angeles (2001)  </td><td>Comedy|Drama                                       </td><td>Dumb and Dumberer: When Harry Met Lloyd (2003)                   </td><td>Comedy|Drama                                       </td></tr>\\n<tr><td>Mummy Returns, The (2001)               </td><td>Action|Adventure|Comedy|Thriller                   </td><td>Pirates of the Caribbean: On Stranger Tides (2011)               </td><td>Action|Adventure|Comedy|Thriller                   </td></tr>\\n<tr><td>Knight&#x27;s Tale, A (2001)                 </td><td>Action|Comedy|Romance                              </td><td>Bruce Almighty (2003)                                            </td><td>Action|Comedy|Romance                              </td></tr>\\n<tr><td>Shrek (2001)                            </td><td>Adventure|Animation|Children|Comedy|Fantasy|Romance</td><td>Monsters, Inc. (2001)                                            </td><td>Adventure|Animation|Children|Comedy|Fantasy|Romance</td></tr>\\n<tr><td>Moulin Rouge (2001)                     </td><td>Drama|Romance                                      </td><td>Notebook, The (2004)                                             </td><td>Drama|Romance                                      </td></tr>\\n<tr><td>Pearl Harbor (2001)                     </td><td>Action|Drama|Romance                               </td><td>Bridget Jones: The Edge of Reason (2004)                         </td><td>Action|Drama|Romance                               </td></tr>\\n<tr><td>Animal, The (2001)                      </td><td>Comedy                                             </td><td>Dumb and Dumberer: When Harry Met Lloyd (2003)                   </td><td>Comedy                                             </td></tr>\\n<tr><td>Evolution (2001)                        </td><td>Comedy|Sci-Fi                                      </td><td>Behind Enemy Lines (2001)                                        </td><td>Comedy|Sci-Fi                                      </td></tr>\\n<tr><td>Swordfish (2001)                        </td><td>Action|Crime|Drama                                 </td><td>Behind Enemy Lines (2001)                                        </td><td>Action|Crime|Drama                                 </td></tr>\\n<tr><td>Atlantis: The Lost Empire (2001)        </td><td>Adventure|Animation|Children|Fantasy               </td><td>Holes (2003)                                                     </td><td>Adventure|Animation|Children|Fantasy               </td></tr>\\n<tr><td>Lara Croft: Tomb Raider (2001)          </td><td>Action|Adventure                                   </td><td>National Treasure: Book of Secrets (2007)                        </td><td>Action|Adventure                                   </td></tr>\\n<tr><td>Dr. Dolittle 2 (2001)                   </td><td>Comedy                                             </td><td>Legally Blonde 2: Red, White &amp; Blonde (2003)                     </td><td>Comedy                                             </td></tr>\\n<tr><td>Fast and the Furious, The (2001)        </td><td>Action|Crime|Thriller                              </td><td>Transporter 2 (2005)                                             </td><td>Action|Crime|Thriller                              </td></tr>\\n<tr><td>A.I. Artificial Intelligence (2001)     </td><td>Adventure|Drama|Sci-Fi                             </td><td>Rookie, The (2002)                                               </td><td>Adventure|Drama|Sci-Fi                             </td></tr>\\n<tr><td>Cats &amp; Dogs (2001)                      </td><td>Children|Comedy                                    </td><td>Shrek the Third (2007)                                           </td><td>Children|Comedy                                    </td></tr>\\n<tr><td>Scary Movie 2 (2001)                    </td><td>Comedy                                             </td><td>Orange County (2002)                                             </td><td>Comedy                                             </td></tr>\\n<tr><td>Final Fantasy: The Spirits Within (2001)</td><td>Adventure|Animation|Fantasy|Sci-Fi                 </td><td>Final Fantasy VII: Advent Children (2004)                        </td><td>Adventure|Animation|Fantasy|Sci-Fi                 </td></tr>\\n<tr><td>Legally Blonde (2001)                   </td><td>Comedy|Romance                                     </td><td>Serendipity (2001)                                               </td><td>Comedy|Romance                                     </td></tr>\\n<tr><td>Score, The (2001)                       </td><td>Action|Drama                                       </td><td>We Were Soldiers (2002)                                          </td><td>Action|Drama                                       </td></tr>\\n<tr><td>Jurassic Park III (2001)                </td><td>Action|Adventure|Sci-Fi|Thriller                   </td><td>Paycheck (2003)                                                  </td><td>Action|Adventure|Sci-Fi|Thriller                   </td></tr>\\n<tr><td>America&#x27;s Sweethearts (2001)            </td><td>Comedy|Romance                                     </td><td>Maid in Manhattan (2002)                                         </td><td>Comedy|Romance                                     </td></tr>\\n<tr><td>Ghost World (2001)                      </td><td>Comedy|Drama                                       </td><td>Igby Goes Down (2002)                                            </td><td>Comedy|Drama                                       </td></tr>\\n<tr><td>Planet of the Apes (2001)               </td><td>Action|Adventure|Drama|Sci-Fi                      </td><td>King Arthur (2004)                                               </td><td>Action|Adventure|Drama|Sci-Fi                      </td></tr>\\n<tr><td>Princess Diaries, The (2001)            </td><td>Children|Comedy|Romance                            </td><td>Phantom of the Opera, The (2004)                                 </td><td>Children|Comedy|Romance                            </td></tr>\\n<tr><td>Rush Hour 2 (2001)                      </td><td>Action|Comedy                                      </td><td>Mexican, The (2001)                                              </td><td>Action|Comedy                                      </td></tr>\\n<tr><td>American Pie 2 (2001)                   </td><td>Comedy                                             </td><td>Rat Race (2001)                                                  </td><td>Comedy                                             </td></tr>\\n<tr><td>Others, The (2001)                      </td><td>Drama|Horror|Mystery|Thriller                      </td><td>Scanner Darkly, A (2006)                                         </td><td>Drama|Horror|Mystery|Thriller                      </td></tr>\\n<tr><td>Rat Race (2001)                         </td><td>Comedy                                             </td><td>American Pie 2 (2001)                                            </td><td>Comedy                                             </td></tr>\\n<tr><td>Jay and Silent Bob Strike Back (2001)   </td><td>Adventure|Comedy                                   </td><td>EuroTrip (2004)                                                  </td><td>Adventure|Comedy                                   </td></tr>\\n<tr><td>Training Day (2001)                     </td><td>Crime|Drama|Thriller                               </td><td>Frailty (2001)                                                   </td><td>Crime|Drama|Thriller                               </td></tr>\\n<tr><td>Zoolander (2001)                        </td><td>Comedy                                             </td><td>Old School (2003)                                                </td><td>Comedy                                             </td></tr>\\n<tr><td>Serendipity (2001)                      </td><td>Comedy|Romance                                     </td><td>Legally Blonde (2001)                                            </td><td>Comedy|Romance                                     </td></tr>\\n<tr><td>Mulholland Drive (2001)                 </td><td>Crime|Drama|Mystery|Thriller                       </td><td>Mystic River (2003)                                              </td><td>Crime|Drama|Mystery|Thriller                       </td></tr>\\n<tr><td>From Hell (2001)                        </td><td>Crime|Horror|Mystery|Thriller                      </td><td>Identity (2003)                                                  </td><td>Crime|Horror|Mystery|Thriller                      </td></tr>\\n<tr><td>Waking Life (2001)                      </td><td>Animation|Drama|Fantasy                            </td><td>Triplets of Belleville, The (Les triplettes de Belleville) (2003)</td><td>Animation|Drama|Fantasy                            </td></tr>\\n<tr><td>K-PAX (2001)                            </td><td>Drama|Fantasy|Mystery|Sci-Fi                       </td><td>Gosford Park (2001)                                              </td><td>Drama|Fantasy|Mystery|Sci-Fi                       </td></tr>\\n</tbody>\\n</table>'"
      ]
     },
     "execution_count": 46,
     "metadata": {},
     "output_type": "execute_result"
    }
   ],
   "source": [
    "count = 50  # number of movies to display\n",
    "dim = len(vms)\n",
    "dist = np.zeros((dim,dim))\n",
    "\n",
    "for i in range(dim):\n",
    "    for j in range(dim):\n",
    "        dist[i,j] = sq_dist(vms[i, :], vms[j, :])\n",
    "        \n",
    "m_dist = ma.masked_array(dist, mask=np.identity(dist.shape[0]))  # mask the diagonal\n",
    "\n",
    "disp = [[\"movie1\", \"genres\", \"movie2\", \"genres\"]]\n",
    "for i in range(count):\n",
    "    min_idx = np.argmin(m_dist[i])\n",
    "    movie1_id = int(item_vecs[i,0])\n",
    "    movie2_id = int(item_vecs[min_idx,0])\n",
    "    disp.append( [movie_dict[movie1_id]['title'], movie_dict[movie1_id]['genres'],\n",
    "                  movie_dict[movie2_id]['title'], movie_dict[movie1_id]['genres']]\n",
    "               )\n",
    "table = tabulate.tabulate(disp, tablefmt='html', headers=\"firstrow\")\n",
    "table"
   ]
  },
  {
   "cell_type": "code",
   "execution_count": null,
   "id": "3fe4f0c3",
   "metadata": {},
   "outputs": [],
   "source": []
  }
 ],
 "metadata": {
  "kernelspec": {
   "display_name": "Python 3 (ipykernel)",
   "language": "python",
   "name": "python3"
  },
  "language_info": {
   "codemirror_mode": {
    "name": "ipython",
    "version": 3
   },
   "file_extension": ".py",
   "mimetype": "text/x-python",
   "name": "python",
   "nbconvert_exporter": "python",
   "pygments_lexer": "ipython3",
   "version": "3.9.12"
  }
 },
 "nbformat": 4,
 "nbformat_minor": 5
}
